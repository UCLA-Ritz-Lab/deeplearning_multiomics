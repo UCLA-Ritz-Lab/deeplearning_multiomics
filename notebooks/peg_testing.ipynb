{
 "cells": [
  {
   "cell_type": "code",
   "execution_count": 127,
   "id": "f50c6633-def4-4800-88f9-519780c81ecc",
   "metadata": {},
   "outputs": [],
   "source": [
    "import tensorflow as tf\n",
    "import numpy as np\n",
    "import keras\n",
    "import pickle\n",
    "from keras import layers\n",
    "from tensorflow import data\n",
    "from sklearn.preprocessing import LabelEncoder\n",
    "from keras.utils import to_categorical"
   ]
  },
  {
   "cell_type": "code",
   "execution_count": null,
   "id": "75224aba-931b-4dc7-8364-a6b4a8de1c5d",
   "metadata": {},
   "outputs": [],
   "source": [
    "labellist=['label']\n",
    "covlist=['subject1','Female','Age','k1a','k2a','k3a','Mono','Gran','CD4T','NK','CD8_naive','CD8pCD28nCD45RAn','PlasmaBlast']\n",
    "snplist=['subject1','GSA-rs2294942_G','rs1939015_G','rs3762352_C','rs525157_A','rs72660967_T','rs6142884_A']\n",
    "cpglist=['subject1','cg25929399','cg05704942','cg10306192','cg24088508','cg20089799','cg06961873','cg00704664','cg06961873']\n",
    "featurelist = covlist+snplist+cpglist\n",
    "fulllist = featurelist+labellist\n",
    "# print('covlist',covlist)\n",
    "csv_batch_size = 100\n",
    "training_batch_size = 10\n",
    "with open(\"rawdata/merge/tfrecord/feature_dict.pkl\", \"rb\") as f:\n",
    "    peg_header_dict = pickle.load(f)\n",
    "peg_header_dict_subset = {}\n",
    "for f in fulllist:\n",
    "    if f in peg_header_dict:\n",
    "        peg_header_dict_subset[f] = peg_header_dict[f]\n",
    "        \n",
    "print('dictionary for tfrecord:',peg_header_dict_subset)\n"
   ]
  },
  {
   "cell_type": "code",
   "execution_count": 376,
   "id": "3dae2192-ffd7-4a2f-8e01-ef762007ed09",
   "metadata": {},
   "outputs": [],
   "source": [
    "\n",
    "# Sample string labels\n",
    "labels = ['cases','controls']\n",
    "\n",
    "# 1. Integer Encoding\n",
    "label_encoder = LabelEncoder()\n",
    "integer_encoded = label_encoder.fit_transform(labels)\n",
    "\n",
    "# 2. One-Hot Encoding\n",
    "onehot_encoded = to_categorical(integer_encoded)\n",
    "\n",
    "#print('onehot',onehot_encoded)\n",
    "\n",
    "feature_description = peg_header_dict_subset\n",
    "def parse_single(example_proto,sublist):\n",
    "    # Parse the input `tf.train.Example` proto using the dictionary above.\n",
    "    diction = tf.io.parse_single_example(example_proto, feature_description)\n",
    "    # convert label to a float\n",
    "    label = diction['label']\n",
    "    intlabel = tf.constant(0.0,dtype='float32')\n",
    "    if label=='cases':\n",
    "        intlabel = tf.constant(1.0,dtype='float32')\n",
    "    diction['label'] = intlabel\n",
    "    filteredlist = {key:diction[key] for key in sublist}\n",
    "    return filteredlist\n",
    "\n",
    "def floatcaster(features):\n",
    "    casted = [tf.cast(features[column], tf.float32)  for column in features if tf.debugging.is_numeric_tensor(features[column])]\n",
    "    #print('casted',casted)\n",
    "    features = tf.concat(  tf.transpose(casted), 1)    \n",
    "    return features\n",
    "\n",
    "def parse_batched(features,sublist):\n",
    "    # Parse the input `tf.train.Example` proto using the dictionary above.\n",
    "    # print('features',features)\n",
    "    filteredlist = {key:features[key] for key in sublist}    \n",
    "    \n",
    "    #del(diction['label'])\n",
    "    return filteredlist\n",
    "    \n",
    "def parse_batched2(features,covlist,snplist,cpglist,labellist):\n",
    "    feature_dict = {}\n",
    "    feature_dict['cov_input'] = floatcaster( {key:features[key] for key in covlist} )\n",
    "    feature_dict['snp_input'] = floatcaster( {key:features[key] for key in snplist} )\n",
    "    feature_dict['cpg_input'] = floatcaster( {key:features[key] for key in cpglist} )\n",
    "    labels = features[labellist[0]]\n",
    "    return (feature_dict,labels)\n",
    "    \n",
    "\n"
   ]
  },
  {
   "cell_type": "code",
   "execution_count": 390,
   "id": "4eedb15b-afa2-4551-900b-9d38acc5e98f",
   "metadata": {},
   "outputs": [
    {
     "name": "stdout",
     "output_type": "stream",
     "text": [
      "cov 12\n",
      "snp 6\n",
      "cpg 7\n",
      "train ({'cov_input': <tf.Tensor: shape=(100, 12), dtype=float32, numpy=\n",
      "array([[0.00000e+00, 6.81000e+01, 4.30000e-02, ..., 1.40274e+02,\n",
      "        9.59874e+00, 1.73824e+00],\n",
      "       [0.00000e+00, 8.04000e+01, 4.00000e-03, ..., 1.71230e+02,\n",
      "        8.14590e+00, 1.98938e+00],\n",
      "       [0.00000e+00, 7.60000e+01, 1.40000e-02, ..., 1.32754e+02,\n",
      "        1.43383e+01, 1.69922e+00],\n",
      "       ...,\n",
      "       [0.00000e+00, 7.67000e+01, 3.30000e-02, ..., 8.73735e+01,\n",
      "        1.74463e+01, 1.90920e+00],\n",
      "       [0.00000e+00, 7.23000e+01, 4.00000e-03, ..., 1.50850e+02,\n",
      "        1.72959e+01, 1.79724e+00],\n",
      "       [0.00000e+00, 6.59000e+01, 6.00000e-03, ..., 2.20976e+02,\n",
      "        8.33296e+00, 1.90008e+00]], dtype=float32)>, 'snp_input': <tf.Tensor: shape=(100, 6), dtype=float32, numpy=\n",
      "array([[0., 0., 2., 1., 0., 0.],\n",
      "       [0., 0., 1., 2., 0., 1.],\n",
      "       [1., 1., 2., 2., 1., 1.],\n",
      "       [0., 1., 2., 2., 0., 0.],\n",
      "       [0., 1., 1., 2., 1., 1.],\n",
      "       [0., 0., 2., 1., 2., 0.],\n",
      "       [1., 1., 2., 1., 0., 2.],\n",
      "       [0., 0., 1., 1., 2., 1.],\n",
      "       [1., 0., 2., 2., 0., 1.],\n",
      "       [1., 0., 1., 1., 2., 1.],\n",
      "       [1., 1., 2., 1., 0., 1.],\n",
      "       [2., 0., 2., 1., 1., 2.],\n",
      "       [2., 1., 2., 2., 1., 0.],\n",
      "       [1., 0., 1., 1., 0., 1.],\n",
      "       [0., 0., 0., 0., 2., 2.],\n",
      "       [1., 0., 1., 1., 1., 1.],\n",
      "       [0., 0., 2., 1., 0., 0.],\n",
      "       [2., 1., 2., 2., 0., 2.],\n",
      "       [1., 0., 2., 1., 1., 0.],\n",
      "       [1., 1., 2., 1., 1., 1.],\n",
      "       [1., 1., 1., 2., 1., 0.],\n",
      "       [2., 0., 1., 1., 0., 2.],\n",
      "       [0., 0., 1., 0., 1., 1.],\n",
      "       [1., 0., 2., 0., 0., 0.],\n",
      "       [1., 0., 2., 1., 1., 2.],\n",
      "       [1., 0., 1., 1., 0., 0.],\n",
      "       [0., 0., 2., 0., 0., 2.],\n",
      "       [1., 1., 1., 1., 1., 2.],\n",
      "       [0., 0., 2., 1., 0., 2.],\n",
      "       [1., 0., 2., 1., 0., 1.],\n",
      "       [1., 0., 1., 2., 1., 1.],\n",
      "       [1., 0., 2., 1., 2., 1.],\n",
      "       [1., 0., 1., 1., 2., 0.],\n",
      "       [0., 1., 2., 1., 1., 1.],\n",
      "       [0., 1., 2., 1., 2., 1.],\n",
      "       [2., 0., 2., 2., 0., 1.],\n",
      "       [0., 0., 2., 1., 2., 1.],\n",
      "       [0., 0., 2., 0., 1., 2.],\n",
      "       [0., 0., 2., 1., 2., 1.],\n",
      "       [0., 0., 2., 1., 2., 1.],\n",
      "       [0., 0., 2., 1., 2., 1.],\n",
      "       [2., 0., 1., 1., 1., 0.],\n",
      "       [1., 0., 2., 2., 1., 1.],\n",
      "       [1., 0., 1., 1., 0., 1.],\n",
      "       [1., 1., 2., 1., 1., 0.],\n",
      "       [1., 0., 2., 0., 1., 0.],\n",
      "       [1., 1., 2., 2., 0., 1.],\n",
      "       [2., 0., 1., 1., 1., 0.],\n",
      "       [1., 0., 2., 1., 1., 2.],\n",
      "       [1., 0., 2., 2., 1., 1.],\n",
      "       [1., 1., 2., 2., 2., 2.],\n",
      "       [0., 0., 2., 2., 1., 1.],\n",
      "       [0., 1., 2., 1., 0., 0.],\n",
      "       [1., 0., 2., 1., 1., 2.],\n",
      "       [0., 1., 2., 2., 2., 0.],\n",
      "       [0., 1., 2., 1., 1., 0.],\n",
      "       [2., 0., 1., 1., 1., 0.],\n",
      "       [0., 0., 2., 1., 1., 1.],\n",
      "       [1., 0., 2., 0., 2., 1.],\n",
      "       [1., 1., 2., 0., 0., 0.],\n",
      "       [1., 0., 2., 0., 1., 1.],\n",
      "       [1., 1., 2., 1., 1., 2.],\n",
      "       [0., 1., 2., 1., 2., 2.],\n",
      "       [0., 0., 1., 1., 1., 0.],\n",
      "       [1., 1., 2., 0., 1., 2.],\n",
      "       [1., 2., 2., 2., 1., 1.],\n",
      "       [1., 0., 2., 1., 2., 0.],\n",
      "       [1., 0., 2., 1., 0., 0.],\n",
      "       [2., 0., 1., 1., 1., 0.],\n",
      "       [0., 0., 1., 1., 2., 1.],\n",
      "       [1., 0., 2., 0., 1., 0.],\n",
      "       [2., 1., 2., 1., 2., 2.],\n",
      "       [0., 1., 0., 0., 0., 1.],\n",
      "       [1., 1., 2., 2., 2., 1.],\n",
      "       [1., 0., 2., 2., 1., 1.],\n",
      "       [2., 1., 1., 1., 2., 2.],\n",
      "       [2., 0., 2., 1., 1., 2.],\n",
      "       [0., 0., 2., 0., 1., 0.],\n",
      "       [0., 0., 2., 0., 1., 2.],\n",
      "       [2., 0., 1., 1., 1., 0.],\n",
      "       [2., 1., 2., 2., 1., 1.],\n",
      "       [1., 0., 2., 1., 1., 1.],\n",
      "       [2., 0., 2., 2., 2., 2.],\n",
      "       [1., 0., 1., 1., 2., 1.],\n",
      "       [0., 0., 2., 1., 2., 1.],\n",
      "       [2., 0., 2., 1., 2., 2.],\n",
      "       [1., 1., 2., 2., 1., 2.],\n",
      "       [1., 0., 2., 1., 1., 0.],\n",
      "       [0., 0., 2., 1., 1., 1.],\n",
      "       [1., 0., 2., 0., 1., 2.],\n",
      "       [0., 1., 2., 2., 2., 1.],\n",
      "       [1., 1., 1., 2., 1., 0.],\n",
      "       [0., 1., 1., 1., 1., 1.],\n",
      "       [0., 1., 1., 0., 2., 1.],\n",
      "       [2., 0., 2., 2., 1., 1.],\n",
      "       [1., 0., 2., 1., 2., 0.],\n",
      "       [1., 0., 1., 1., 2., 1.],\n",
      "       [0., 0., 2., 2., 1., 0.],\n",
      "       [1., 2., 2., 2., 1., 1.],\n",
      "       [1., 0., 2., 1., 1., 2.]], dtype=float32)>, 'cpg_input': <tf.Tensor: shape=(100, 7), dtype=float32, numpy=\n",
      "array([[0.05855339, 0.04294591, 0.04322305, 0.0512359 , 0.5135528 ,\n",
      "        0.03180247, 0.05983961],\n",
      "       [0.06476938, 0.03752817, 0.01767871, 0.4619754 , 0.08489432,\n",
      "        0.05269562, 0.49981713],\n",
      "       [0.07149404, 0.4189841 , 0.58386564, 0.02577873, 0.04794709,\n",
      "        0.52655   , 0.42581257],\n",
      "       [0.07061901, 0.05451855, 0.5845324 , 0.03583815, 0.0510167 ,\n",
      "        0.04411588, 0.06200921],\n",
      "       [0.07330761, 0.03517144, 0.58357114, 0.55348307, 0.05610746,\n",
      "        0.5977754 , 0.50634956],\n",
      "       [0.01531023, 0.03252804, 0.02529511, 0.04615727, 0.55070347,\n",
      "        0.9722978 , 0.06568837],\n",
      "       [0.03545781, 0.5759714 , 0.63890815, 0.06259801, 0.5503589 ,\n",
      "        0.05485273, 0.46823975],\n",
      "       [0.06969171, 0.03664416, 0.03683386, 0.38193804, 0.46681044,\n",
      "        0.93752086, 0.4650823 ],\n",
      "       [0.6044268 , 0.56680346, 0.08125538, 0.05862242, 0.07169162,\n",
      "        0.03710231, 0.51169884],\n",
      "       [0.0251088 , 0.5196349 , 0.01439114, 0.6075315 , 0.5768072 ,\n",
      "        0.9683641 , 0.51559734],\n",
      "       [0.05377907, 0.50569856, 0.6570299 , 0.06344697, 0.50470245,\n",
      "        0.03988711, 0.46374243],\n",
      "       [0.05119347, 0.9084148 , 0.05355683, 0.05143631, 0.51244175,\n",
      "        0.5301724 , 0.89193046],\n",
      "       [0.62241673, 0.91120905, 0.68505406, 0.05094314, 0.08536418,\n",
      "        0.5608353 , 0.07447307],\n",
      "       [0.06621102, 0.5303976 , 0.03166718, 0.5420697 , 0.54390585,\n",
      "        0.03974133, 0.52629656],\n",
      "       [0.0492521 , 0.01616327, 0.01751907, 0.8760316 , 0.98506904,\n",
      "        0.9637527 , 0.8794853 ],\n",
      "       [0.04711078, 0.4995618 , 0.03634511, 0.54403263, 0.54144955,\n",
      "        0.550643  , 0.41519636],\n",
      "       [0.5638057 , 0.04083076, 0.03956161, 0.0534765 , 0.53291786,\n",
      "        0.04160261, 0.08024489],\n",
      "       [0.6115206 , 0.8885314 , 0.6193863 , 0.06290483, 0.04970996,\n",
      "        0.03912678, 0.8679663 ],\n",
      "       [0.06103596, 0.5222061 , 0.06183206, 0.05685144, 0.5153512 ,\n",
      "        0.6110102 , 0.06327458],\n",
      "       [0.05383188, 0.44273967, 0.5761385 , 0.03844759, 0.50411564,\n",
      "        0.49633968, 0.42008945],\n",
      "       [0.02584769, 0.50485843, 0.57382494, 0.48720676, 0.05627662,\n",
      "        0.50361717, 0.04531362],\n",
      "       [0.04030788, 0.8868939 , 0.01097585, 0.52334803, 0.44205105,\n",
      "        0.01860465, 0.82793325],\n",
      "       [0.04689245, 0.04109589, 0.00859171, 0.50656605, 0.9602238 ,\n",
      "        0.5639336 , 0.5015342 ],\n",
      "       [0.03870968, 0.5238207 , 0.03485013, 0.05823226, 0.96133435,\n",
      "        0.02758362, 0.06303189],\n",
      "       [0.02306953, 0.48873666, 0.06419019, 0.05077732, 0.52393466,\n",
      "        0.5426747 , 0.907364  ],\n",
      "       [0.63799655, 0.5085648 , 0.03651116, 0.6335673 , 0.5251935 ,\n",
      "        0.05670699, 0.6021902 ],\n",
      "       [0.08660752, 0.03556759, 0.0769556 , 0.06828591, 0.95565027,\n",
      "        0.04915886, 0.88204384],\n",
      "       [0.54888505, 0.49925718, 0.52602375, 0.36680666, 0.53942084,\n",
      "        0.53592676, 0.7700111 ],\n",
      "       [0.02148511, 0.0497914 , 0.03872217, 0.05534285, 0.5622136 ,\n",
      "        0.04229094, 0.90578663],\n",
      "       [0.00191939, 0.50884044, 0.01077918, 0.04006659, 0.56330675,\n",
      "        0.0358423 , 0.4395324 ],\n",
      "       [0.06387748, 0.508217  , 0.03368794, 0.5061104 , 0.04881313,\n",
      "        0.5379476 , 0.47689167],\n",
      "       [0.4460064 , 0.43354872, 0.02477919, 0.0441791 , 0.45411727,\n",
      "        0.9328993 , 0.35415378],\n",
      "       [0.04310818, 0.48476148, 0.05883522, 0.590416  , 0.48505285,\n",
      "        0.9511941 , 0.06796454],\n",
      "       [0.04045422, 0.02993688, 0.6055505 , 0.05027933, 0.5097894 ,\n",
      "        0.50676155, 0.39883173],\n",
      "       [0.54633206, 0.02770728, 0.5982506 , 0.04515863, 0.5042173 ,\n",
      "        0.9657781 , 0.40771267],\n",
      "       [0.01798686, 0.9288259 , 0.        , 0.01452578, 0.06372749,\n",
      "        0.0486824 , 0.537518  ],\n",
      "       [0.0690575 , 0.02497347, 0.02139316, 0.05052169, 0.4812645 ,\n",
      "        0.94884765, 0.436794  ],\n",
      "       [0.08198838, 0.05188344, 0.04182642, 0.05091421, 0.97008795,\n",
      "        0.5742891 , 0.8940003 ],\n",
      "       [0.04164914, 0.02440456, 0.05048544, 0.04319284, 0.42254674,\n",
      "        0.91405535, 0.49586824],\n",
      "       [0.04583087, 0.02535874, 0.04688936, 0.04339366, 0.47295606,\n",
      "        0.96435344, 0.4510533 ],\n",
      "       [0.03087741, 0.04292867, 0.03683575, 0.03720106, 0.53275305,\n",
      "        0.9458642 , 0.4787058 ],\n",
      "       [0.03700278, 0.9018672 , 0.02107675, 0.45188102, 0.5072968 ,\n",
      "        0.5310194 , 0.0708899 ],\n",
      "       [0.04495557, 0.4451139 , 0.0213696 , 0.04237801, 0.06860803,\n",
      "        0.5221048 , 0.46905997],\n",
      "       [0.01416733, 0.47383156, 0.01171486, 0.4016535 , 0.45327258,\n",
      "        0.02576225, 0.40231794],\n",
      "       [0.06091538, 0.43958914, 0.5950577 , 0.03336694, 0.43463537,\n",
      "        0.49762315, 0.04377048],\n",
      "       [0.07403156, 0.4869778 , 0.02740508, 0.03015474, 0.9692004 ,\n",
      "        0.5778471 , 0.06602103],\n",
      "       [0.04177846, 0.5074361 , 0.6345215 , 0.06000475, 0.04688825,\n",
      "        0.04174592, 0.49967557],\n",
      "       [0.05636209, 0.9166093 , 0.02337982, 0.6319181 , 0.5225775 ,\n",
      "        0.5453926 , 0.06490641],\n",
      "       [0.02048495, 0.5562412 , 0.03887438, 0.04882858, 0.48994803,\n",
      "        0.5896716 , 0.9220317 ],\n",
      "       [0.03988183, 0.44124332, 0.03683738, 0.04194137, 0.04581047,\n",
      "        0.5319791 , 0.43352503],\n",
      "       [0.63648194, 0.5201009 , 0.650234  , 0.05321755, 0.06462461,\n",
      "        0.9527164 , 0.92303985],\n",
      "       [0.07736878, 0.04320051, 0.04994512, 0.02926209, 0.05977043,\n",
      "        0.5258937 , 0.47251266],\n",
      "       [0.05823349, 0.03448862, 0.6324695 , 0.0535001 , 0.56487966,\n",
      "        0.03395762, 0.06109175],\n",
      "       [0.07149853, 0.5212635 , 0.02336114, 0.04408818, 0.54495716,\n",
      "        0.5517849 , 0.911169  ],\n",
      "       [0.5854021 , 0.02379768, 0.5606792 , 0.06679861, 0.05246913,\n",
      "        0.954011  , 0.4774913 ],\n",
      "       [0.05643341, 0.03210659, 0.65269774, 0.09991312, 0.5868098 ,\n",
      "        0.54385966, 0.06913412],\n",
      "       [0.04685777, 0.9297564 , 0.09160306, 0.48373348, 0.604428  ,\n",
      "        0.61614084, 0.07946218],\n",
      "       [0.04232424, 0.05702682, 0.04787069, 0.05952952, 0.51826763,\n",
      "        0.6121971 , 0.47892833],\n",
      "       [0.60004455, 0.5136635 , 0.0277022 , 0.04810177, 0.975735  ,\n",
      "        0.95926845, 0.477214  ],\n",
      "       [0.5393969 , 0.46156994, 0.61762655, 0.0319457 , 0.9844526 ,\n",
      "        0.03571429, 0.0661431 ],\n",
      "       [0.5358995 , 0.5163135 , 0.01495278, 0.04285254, 0.95795065,\n",
      "        0.5360392 , 0.46669567],\n",
      "       [0.02586207, 0.5702095 , 0.64325976, 0.04807795, 0.5877716 ,\n",
      "        0.59764177, 0.91712356],\n",
      "       [0.05816832, 0.04181119, 0.60210407, 0.04693379, 0.5699646 ,\n",
      "        0.9444351 , 0.91802305],\n",
      "       [0.06413731, 0.03942191, 0.02478862, 0.44615385, 0.50602555,\n",
      "        0.5608992 , 0.06641217],\n",
      "       [0.05074521, 0.5070994 , 0.72061896, 0.05568029, 0.9668704 ,\n",
      "        0.56868315, 0.94220865],\n",
      "       [0.02736513, 0.49463192, 0.95276767, 0.04905604, 0.0885064 ,\n",
      "        0.5473597 , 0.47380906],\n",
      "       [0.07337526, 0.49335474, 0.08323959, 0.0626581 , 0.57961833,\n",
      "        0.960525  , 0.0572112 ],\n",
      "       [0.00400107, 0.43465695, 0.05036374, 0.04117513, 0.49584046,\n",
      "        0.03659068, 0.06245555],\n",
      "       [0.05617978, 0.9058752 , 0.00765462, 0.634541  , 0.5590755 ,\n",
      "        0.5780675 , 0.45624012],\n",
      "       [0.01402033, 0.04906771, 0.01054677, 0.51744837, 0.5256269 ,\n",
      "        0.9577887 , 0.45850223],\n",
      "       [0.64256346, 0.50764626, 0.01725791, 0.06456241, 0.978543  ,\n",
      "        0.5711224 , 0.07158215],\n",
      "       [0.07126437, 0.9179987 , 0.67581934, 0.04697574, 0.5690733 ,\n",
      "        0.9585479 , 0.90458715],\n",
      "       [0.05694831, 0.03632479, 0.69651085, 0.83887535, 0.9710507 ,\n",
      "        0.04868088, 0.46152112],\n",
      "       [0.09680171, 0.51513076, 0.7039201 , 0.05008367, 0.09854962,\n",
      "        0.956818  , 0.48792812],\n",
      "       [0.05241636, 0.5121541 , 0.03591009, 0.01991975, 0.05228238,\n",
      "        0.52831984, 0.48117298],\n",
      "       [0.05305756, 0.9152078 , 0.6689655 , 0.46905595, 0.5390396 ,\n",
      "        0.94628066, 0.920408  ],\n",
      "       [0.0582337 , 0.8886081 , 0.04500866, 0.09212445, 0.536347  ,\n",
      "        0.53641015, 0.92392576],\n",
      "       [0.08479679, 0.0348295 , 0.04647117, 0.05135093, 0.96807283,\n",
      "        0.57561004, 0.07863964],\n",
      "       [0.06563824, 0.03655155, 0.09997443, 0.0662058 , 0.96621406,\n",
      "        0.6023975 , 0.92166203],\n",
      "       [0.05301314, 0.9239005 , 0.05413648, 0.47870922, 0.5351066 ,\n",
      "        0.54337215, 0.05509482],\n",
      "       [0.04234528, 0.84887457, 0.5259376 , 0.05133378, 0.0422605 ,\n",
      "        0.49594533, 0.4408222 ],\n",
      "       [0.50267076, 0.5395297 , 0.10157932, 0.04324364, 0.4992661 ,\n",
      "        0.5329168 , 0.9127829 ],\n",
      "       [0.06870469, 0.8997169 , 0.03684807, 0.05115727, 0.04954484,\n",
      "        0.9598214 , 0.90868723],\n",
      "       [0.02098304, 0.48543277, 0.01967096, 0.6882436 , 0.5080554 ,\n",
      "        0.9120764 , 0.44204515],\n",
      "       [0.06764575, 0.02858499, 0.04562269, 0.04338549, 0.5031177 ,\n",
      "        0.9389474 , 0.5265227 ],\n",
      "       [0.05805928, 0.92331797, 0.03850385, 0.065267  , 0.54609424,\n",
      "        0.9641605 , 0.9242258 ],\n",
      "       [0.03839869, 0.4972522 , 0.57053196, 0.05883933, 0.0565254 ,\n",
      "        0.5317288 , 0.89111406],\n",
      "       [0.03654485, 0.50115615, 0.04212129, 0.07086927, 0.5367107 ,\n",
      "        0.551754  , 0.05982162],\n",
      "       [0.03829201, 0.02510566, 0.06259315, 0.03941353, 0.4574015 ,\n",
      "        0.5377649 , 0.41367573],\n",
      "       [0.03876273, 0.50516915, 0.03173687, 0.02923106, 0.9685112 ,\n",
      "        0.5208111 , 0.92580676],\n",
      "       [0.5891704 , 0.04199605, 0.5876168 , 0.05396825, 0.06692353,\n",
      "        0.97213036, 0.48730633],\n",
      "       [0.07889125, 0.5837906 , 0.6367699 , 0.53430355, 0.06090882,\n",
      "        0.54680055, 0.0528026 ],\n",
      "       [0.05656395, 0.04481132, 0.6568303 , 0.45479745, 0.5014412 ,\n",
      "        0.5301581 , 0.45672324],\n",
      "       [0.05475701, 0.03438063, 0.7604817 , 0.5286702 , 0.95823956,\n",
      "        0.95234376, 0.47363514],\n",
      "       [0.04092819, 0.8970529 , 0.02042583, 0.04729259, 0.03506361,\n",
      "        0.46873462, 0.3821916 ],\n",
      "       [0.05618752, 0.46672583, 0.03696013, 0.05297098, 0.50954664,\n",
      "        0.92449677, 0.06079111],\n",
      "       [0.06110595, 0.45977837, 0.12613156, 0.6217768 , 0.45707726,\n",
      "        0.9463432 , 0.41942093],\n",
      "       [0.03443069, 0.03261961, 0.02212266, 0.02540079, 0.0576605 ,\n",
      "        0.5620796 , 0.07342342],\n",
      "       [0.05218659, 0.484349  , 0.9297288 , 0.04668004, 0.04717854,\n",
      "        0.56249505, 0.44901627],\n",
      "       [0.05379626, 0.44832617, 0.0593481 , 0.0466457 , 0.5017609 ,\n",
      "        0.5364948 , 0.8885987 ]], dtype=float32)>}, <tf.Tensor: shape=(100,), dtype=float32, numpy=\n",
      "array([0., 0., 0., 0., 0., 0., 0., 0., 0., 0., 0., 0., 0., 0., 0., 0., 0.,\n",
      "       0., 0., 0., 0., 0., 0., 0., 0., 0., 0., 0., 0., 0., 0., 0., 0., 0.,\n",
      "       0., 0., 0., 0., 0., 0., 0., 0., 0., 0., 0., 0., 0., 0., 0., 0., 0.,\n",
      "       0., 0., 0., 0., 0., 0., 0., 0., 0., 0., 0., 0., 0., 0., 0., 0., 0.,\n",
      "       0., 0., 0., 0., 0., 0., 0., 0., 0., 0., 0., 0., 0., 0., 0., 0., 0.,\n",
      "       0., 0., 0., 0., 0., 0., 0., 0., 0., 0., 0., 0., 0., 0., 0.],\n",
      "      dtype=float32)>)\n"
     ]
    }
   ],
   "source": [
    "#filenames = ['rawdata/merge/dataset.tfrecords']\n",
    "filenames = ['rawdata/merge/tfrecord/dataset.tfrecords']\n",
    "raw_dataset = tf.data.TFRecordDataset(filenames)\n",
    "full_dataset = raw_dataset.map(lambda x: parse_single(x,featurelist+labellist))\n",
    "#print('full',full_dataset)\n",
    "batched_dataset = full_dataset.repeat().shuffle(100).batch(100)\n",
    "#print('batched',next(iter(batched_dataset)))\n",
    "batched_dataset2 = batched_dataset.map(lambda features:parse_batched2(features,covlist,snplist,cpglist,labellist))\n",
    "#print('batched2',next(iter(batched_dataset2)))\n",
    "train = batched_dataset2.take(3)\n",
    "val = batched_dataset2.skip(3)\n",
    "\n",
    "print('cov',train.element_spec[0]['cov_input'].shape[1])\n",
    "print('snp',train.element_spec[0]['snp_input'].shape[1])\n",
    "print('cpg',train.element_spec[0]['cpg_input'].shape[1])\n",
    "print('train',next(iter(train)))"
   ]
  },
  {
   "cell_type": "code",
   "execution_count": null,
   "id": "5f09ac0c-596a-4697-badf-348a94b932ba",
   "metadata": {},
   "outputs": [],
   "source": [
    "print('covlist',covlist)\n",
    "cov_batched = batched_dataset.map(lambda features: parse_batched(features,covlist))\n",
    "print('covbatched',next(iter(cov_batched)))\n",
    "snp_batched = batched_dataset.map(lambda features: parse_batched(features,snplist))\n",
    "# print('snpbatched',next(iter(snp_batched)))\n",
    "cpg_batched = batched_dataset.map(lambda features: parse_batched(features,cpglist))\n",
    "# print('cpgbatched',next(iter(cpg_batched)))\n",
    "label_batched = batched_dataset.map(lambda features: parse_batched(features,labellist))\n",
    "print('labelbatched',next(iter(label_batched)))"
   ]
  },
  {
   "cell_type": "code",
   "execution_count": null,
   "id": "cba28155-6772-412c-8246-330a4214fba6",
   "metadata": {},
   "outputs": [],
   "source": [
    "    \n",
    "cov_processed = cov_batched.map(floatcaster)\n",
    "snp_processed = snp_batched.map(floatcaster)\n",
    "cpg_processed = cpg_batched.map(floatcaster)\n",
    "label_processed = label_batched.map(floatcaster)\n",
    "print('cov_processed',cov_processed)\n",
    "print('sample cov',next(iter(cov_processed)))\n",
    "train_batches = 4\n",
    "cov_train = cov_processed.take(train_batches)\n",
    "snp_train = snp_processed.take(train_batches)\n",
    "cpg_train = cpg_processed.take(train_batches)\n",
    "label_train = label_processed.take(train_batches)\n",
    "cov_val = cov_processed.skip(train_batches)\n",
    "snp_val = snp_processed.skip(train_batches)\n",
    "cpg_val = cpg_processed.skip(train_batches)\n",
    "label_val = label_processed.skip(train_batches)"
   ]
  },
  {
   "cell_type": "code",
   "execution_count": 361,
   "id": "983bcbad-21a2-4580-85ca-ee730bbfd217",
   "metadata": {},
   "outputs": [
    {
     "name": "stdout",
     "output_type": "stream",
     "text": [
      "7\n"
     ]
    }
   ],
   "source": [
    "print(cpg_train.element_spec.shape[1])\n",
    "#for element in val:\n",
    "    #print('counter val',counter,element)\n",
    "    #counter+=1\n",
    "# for raw_record in raw_dataset.take(1):\n",
    "#   example = tf.train.Example()\n",
    "#   example.ParseFromString(raw_record.numpy())\n",
    "#   #print(example)\n",
    "\n",
    "# # Create a description of the features.\n",
    "# feature_description = {\n",
    "#     'geno': tf.io.FixedLenFeature([], tf.int64, default_value=0),    \n",
    "#     'sample': tf.io.FixedLenFeature([], tf.string, default_value=''),\n",
    "#     'cpg': tf.io.FixedLenFeature([], tf.float32, default_value=0.0),\n",
    "# }"
   ]
  },
  {
   "cell_type": "code",
   "execution_count": 236,
   "id": "503c71b7-fa46-4227-b177-7a4d8f1beac3",
   "metadata": {},
   "outputs": [
    {
     "name": "stdout",
     "output_type": "stream",
     "text": [
      "<_MapDataset element_spec=(TensorSpec(shape=(100, 3), dtype=tf.float32, name=None), TensorSpec(shape=(100,), dtype=tf.float32, name=None))>\n"
     ]
    }
   ],
   "source": [
    "def floatcaster2(features, labels):\n",
    "    casted = [tf.cast(features[column], tf.float32)  for column in snplist+cpglist]\n",
    "    #print('casted',casted)\n",
    "    features = tf.concat(  tf.transpose(casted), 1)\n",
    "\n",
    "    intlabels = tf.map_fn(lambda x: 1.0 if x=='cases' else 0.0 , labels,fn_output_signature= tf.float32)\n",
    "    #intlabel = 0.0\n",
    "    #if labels == 'cases':\n",
    "        #intlabel = 1.0        \n",
    "    return features,intlabels\n",
    "    \n",
    "    #return (tf.stack(list(features.values()), axis=1), labels)\n",
    "\n",
    "#dataset = dataset.map(workaround)\n",
    "merged_ds = tf.data.experimental.make_csv_dataset(file_pattern=\"rawdata/merge/*/pasted.csv.new\",num_parallel_reads=2,select_columns=labellist+snplist+cpglist,label_name='label',shuffle_buffer_size=500,batch_size=csv_batch_size,num_epochs=None).map(floatcaster2)\n",
    "print(merged_ds)"
   ]
  },
  {
   "cell_type": "code",
   "execution_count": null,
   "id": "794efcb4-6ee0-4c70-9efb-a80b2be4d602",
   "metadata": {},
   "outputs": [],
   "source": [
    "model = tf.keras.Sequential([\n",
    "  tf.keras.layers.Flatten(),\n",
    "  tf.keras.layers.Dense(10)\n",
    "])"
   ]
  },
  {
   "cell_type": "code",
   "execution_count": 393,
   "id": "7b11e1ef-76eb-4eb2-a770-ddafa0d4a926",
   "metadata": {},
   "outputs": [
    {
     "name": "stdout",
     "output_type": "stream",
     "text": [
      "inputsize 12\n"
     ]
    },
    {
     "data": {
      "text/html": [
       "<pre style=\"white-space:pre;overflow-x:auto;line-height:normal;font-family:Menlo,'DejaVu Sans Mono',consolas,'Courier New',monospace\"><span style=\"font-weight: bold\">Model: \"cov_model\"</span>\n",
       "</pre>\n"
      ],
      "text/plain": [
       "\u001b[1mModel: \"cov_model\"\u001b[0m\n"
      ]
     },
     "metadata": {},
     "output_type": "display_data"
    },
    {
     "data": {
      "text/html": [
       "<pre style=\"white-space:pre;overflow-x:auto;line-height:normal;font-family:Menlo,'DejaVu Sans Mono',consolas,'Courier New',monospace\">┏━━━━━━━━━━━━━━━━━━━━━━━━━━━━━━━━━┳━━━━━━━━━━━━━━━━━━━━━━━━┳━━━━━━━━━━━━━━━┓\n",
       "┃<span style=\"font-weight: bold\"> Layer (type)                    </span>┃<span style=\"font-weight: bold\"> Output Shape           </span>┃<span style=\"font-weight: bold\">       Param # </span>┃\n",
       "┡━━━━━━━━━━━━━━━━━━━━━━━━━━━━━━━━━╇━━━━━━━━━━━━━━━━━━━━━━━━╇━━━━━━━━━━━━━━━┩\n",
       "│ cov_input (<span style=\"color: #0087ff; text-decoration-color: #0087ff\">InputLayer</span>)          │ (<span style=\"color: #00d7ff; text-decoration-color: #00d7ff\">None</span>, <span style=\"color: #00af00; text-decoration-color: #00af00\">12</span>)             │             <span style=\"color: #00af00; text-decoration-color: #00af00\">0</span> │\n",
       "├─────────────────────────────────┼────────────────────────┼───────────────┤\n",
       "│ cov_output (<span style=\"color: #0087ff; text-decoration-color: #0087ff\">Dense</span>)              │ (<span style=\"color: #00d7ff; text-decoration-color: #00d7ff\">None</span>, <span style=\"color: #00af00; text-decoration-color: #00af00\">1</span>)              │            <span style=\"color: #00af00; text-decoration-color: #00af00\">13</span> │\n",
       "└─────────────────────────────────┴────────────────────────┴───────────────┘\n",
       "</pre>\n"
      ],
      "text/plain": [
       "┏━━━━━━━━━━━━━━━━━━━━━━━━━━━━━━━━━┳━━━━━━━━━━━━━━━━━━━━━━━━┳━━━━━━━━━━━━━━━┓\n",
       "┃\u001b[1m \u001b[0m\u001b[1mLayer (type)                   \u001b[0m\u001b[1m \u001b[0m┃\u001b[1m \u001b[0m\u001b[1mOutput Shape          \u001b[0m\u001b[1m \u001b[0m┃\u001b[1m \u001b[0m\u001b[1m      Param #\u001b[0m\u001b[1m \u001b[0m┃\n",
       "┡━━━━━━━━━━━━━━━━━━━━━━━━━━━━━━━━━╇━━━━━━━━━━━━━━━━━━━━━━━━╇━━━━━━━━━━━━━━━┩\n",
       "│ cov_input (\u001b[38;5;33mInputLayer\u001b[0m)          │ (\u001b[38;5;45mNone\u001b[0m, \u001b[38;5;34m12\u001b[0m)             │             \u001b[38;5;34m0\u001b[0m │\n",
       "├─────────────────────────────────┼────────────────────────┼───────────────┤\n",
       "│ cov_output (\u001b[38;5;33mDense\u001b[0m)              │ (\u001b[38;5;45mNone\u001b[0m, \u001b[38;5;34m1\u001b[0m)              │            \u001b[38;5;34m13\u001b[0m │\n",
       "└─────────────────────────────────┴────────────────────────┴───────────────┘\n"
      ]
     },
     "metadata": {},
     "output_type": "display_data"
    },
    {
     "data": {
      "text/html": [
       "<pre style=\"white-space:pre;overflow-x:auto;line-height:normal;font-family:Menlo,'DejaVu Sans Mono',consolas,'Courier New',monospace\"><span style=\"font-weight: bold\"> Total params: </span><span style=\"color: #00af00; text-decoration-color: #00af00\">13</span> (52.00 B)\n",
       "</pre>\n"
      ],
      "text/plain": [
       "\u001b[1m Total params: \u001b[0m\u001b[38;5;34m13\u001b[0m (52.00 B)\n"
      ]
     },
     "metadata": {},
     "output_type": "display_data"
    },
    {
     "data": {
      "text/html": [
       "<pre style=\"white-space:pre;overflow-x:auto;line-height:normal;font-family:Menlo,'DejaVu Sans Mono',consolas,'Courier New',monospace\"><span style=\"font-weight: bold\"> Trainable params: </span><span style=\"color: #00af00; text-decoration-color: #00af00\">13</span> (52.00 B)\n",
       "</pre>\n"
      ],
      "text/plain": [
       "\u001b[1m Trainable params: \u001b[0m\u001b[38;5;34m13\u001b[0m (52.00 B)\n"
      ]
     },
     "metadata": {},
     "output_type": "display_data"
    },
    {
     "data": {
      "text/html": [
       "<pre style=\"white-space:pre;overflow-x:auto;line-height:normal;font-family:Menlo,'DejaVu Sans Mono',consolas,'Courier New',monospace\"><span style=\"font-weight: bold\"> Non-trainable params: </span><span style=\"color: #00af00; text-decoration-color: #00af00\">0</span> (0.00 B)\n",
       "</pre>\n"
      ],
      "text/plain": [
       "\u001b[1m Non-trainable params: \u001b[0m\u001b[38;5;34m0\u001b[0m (0.00 B)\n"
      ]
     },
     "metadata": {},
     "output_type": "display_data"
    },
    {
     "name": "stdout",
     "output_type": "stream",
     "text": [
      "None\n",
      "inputsize 6\n"
     ]
    },
    {
     "data": {
      "text/html": [
       "<pre style=\"white-space:pre;overflow-x:auto;line-height:normal;font-family:Menlo,'DejaVu Sans Mono',consolas,'Courier New',monospace\"><span style=\"font-weight: bold\">Model: \"snp_model\"</span>\n",
       "</pre>\n"
      ],
      "text/plain": [
       "\u001b[1mModel: \"snp_model\"\u001b[0m\n"
      ]
     },
     "metadata": {},
     "output_type": "display_data"
    },
    {
     "data": {
      "text/html": [
       "<pre style=\"white-space:pre;overflow-x:auto;line-height:normal;font-family:Menlo,'DejaVu Sans Mono',consolas,'Courier New',monospace\">┏━━━━━━━━━━━━━━━━━━━━━━━━━━━━━━━━━┳━━━━━━━━━━━━━━━━━━━━━━━━┳━━━━━━━━━━━━━━━┓\n",
       "┃<span style=\"font-weight: bold\"> Layer (type)                    </span>┃<span style=\"font-weight: bold\"> Output Shape           </span>┃<span style=\"font-weight: bold\">       Param # </span>┃\n",
       "┡━━━━━━━━━━━━━━━━━━━━━━━━━━━━━━━━━╇━━━━━━━━━━━━━━━━━━━━━━━━╇━━━━━━━━━━━━━━━┩\n",
       "│ snp_input (<span style=\"color: #0087ff; text-decoration-color: #0087ff\">InputLayer</span>)          │ (<span style=\"color: #00d7ff; text-decoration-color: #00d7ff\">None</span>, <span style=\"color: #00af00; text-decoration-color: #00af00\">6</span>)              │             <span style=\"color: #00af00; text-decoration-color: #00af00\">0</span> │\n",
       "├─────────────────────────────────┼────────────────────────┼───────────────┤\n",
       "│ snp_gene (<span style=\"color: #0087ff; text-decoration-color: #0087ff\">Dense</span>)                │ (<span style=\"color: #00d7ff; text-decoration-color: #00d7ff\">None</span>, <span style=\"color: #00af00; text-decoration-color: #00af00\">32</span>)             │           <span style=\"color: #00af00; text-decoration-color: #00af00\">224</span> │\n",
       "├─────────────────────────────────┼────────────────────────┼───────────────┤\n",
       "│ snp_gene_output (<span style=\"color: #0087ff; text-decoration-color: #0087ff\">Dense</span>)         │ (<span style=\"color: #00d7ff; text-decoration-color: #00d7ff\">None</span>, <span style=\"color: #00af00; text-decoration-color: #00af00\">1</span>)              │            <span style=\"color: #00af00; text-decoration-color: #00af00\">33</span> │\n",
       "└─────────────────────────────────┴────────────────────────┴───────────────┘\n",
       "</pre>\n"
      ],
      "text/plain": [
       "┏━━━━━━━━━━━━━━━━━━━━━━━━━━━━━━━━━┳━━━━━━━━━━━━━━━━━━━━━━━━┳━━━━━━━━━━━━━━━┓\n",
       "┃\u001b[1m \u001b[0m\u001b[1mLayer (type)                   \u001b[0m\u001b[1m \u001b[0m┃\u001b[1m \u001b[0m\u001b[1mOutput Shape          \u001b[0m\u001b[1m \u001b[0m┃\u001b[1m \u001b[0m\u001b[1m      Param #\u001b[0m\u001b[1m \u001b[0m┃\n",
       "┡━━━━━━━━━━━━━━━━━━━━━━━━━━━━━━━━━╇━━━━━━━━━━━━━━━━━━━━━━━━╇━━━━━━━━━━━━━━━┩\n",
       "│ snp_input (\u001b[38;5;33mInputLayer\u001b[0m)          │ (\u001b[38;5;45mNone\u001b[0m, \u001b[38;5;34m6\u001b[0m)              │             \u001b[38;5;34m0\u001b[0m │\n",
       "├─────────────────────────────────┼────────────────────────┼───────────────┤\n",
       "│ snp_gene (\u001b[38;5;33mDense\u001b[0m)                │ (\u001b[38;5;45mNone\u001b[0m, \u001b[38;5;34m32\u001b[0m)             │           \u001b[38;5;34m224\u001b[0m │\n",
       "├─────────────────────────────────┼────────────────────────┼───────────────┤\n",
       "│ snp_gene_output (\u001b[38;5;33mDense\u001b[0m)         │ (\u001b[38;5;45mNone\u001b[0m, \u001b[38;5;34m1\u001b[0m)              │            \u001b[38;5;34m33\u001b[0m │\n",
       "└─────────────────────────────────┴────────────────────────┴───────────────┘\n"
      ]
     },
     "metadata": {},
     "output_type": "display_data"
    },
    {
     "data": {
      "text/html": [
       "<pre style=\"white-space:pre;overflow-x:auto;line-height:normal;font-family:Menlo,'DejaVu Sans Mono',consolas,'Courier New',monospace\"><span style=\"font-weight: bold\"> Total params: </span><span style=\"color: #00af00; text-decoration-color: #00af00\">257</span> (1.00 KB)\n",
       "</pre>\n"
      ],
      "text/plain": [
       "\u001b[1m Total params: \u001b[0m\u001b[38;5;34m257\u001b[0m (1.00 KB)\n"
      ]
     },
     "metadata": {},
     "output_type": "display_data"
    },
    {
     "data": {
      "text/html": [
       "<pre style=\"white-space:pre;overflow-x:auto;line-height:normal;font-family:Menlo,'DejaVu Sans Mono',consolas,'Courier New',monospace\"><span style=\"font-weight: bold\"> Trainable params: </span><span style=\"color: #00af00; text-decoration-color: #00af00\">257</span> (1.00 KB)\n",
       "</pre>\n"
      ],
      "text/plain": [
       "\u001b[1m Trainable params: \u001b[0m\u001b[38;5;34m257\u001b[0m (1.00 KB)\n"
      ]
     },
     "metadata": {},
     "output_type": "display_data"
    },
    {
     "data": {
      "text/html": [
       "<pre style=\"white-space:pre;overflow-x:auto;line-height:normal;font-family:Menlo,'DejaVu Sans Mono',consolas,'Courier New',monospace\"><span style=\"font-weight: bold\"> Non-trainable params: </span><span style=\"color: #00af00; text-decoration-color: #00af00\">0</span> (0.00 B)\n",
       "</pre>\n"
      ],
      "text/plain": [
       "\u001b[1m Non-trainable params: \u001b[0m\u001b[38;5;34m0\u001b[0m (0.00 B)\n"
      ]
     },
     "metadata": {},
     "output_type": "display_data"
    },
    {
     "name": "stdout",
     "output_type": "stream",
     "text": [
      "None\n",
      "inputsize 7\n"
     ]
    },
    {
     "data": {
      "text/html": [
       "<pre style=\"white-space:pre;overflow-x:auto;line-height:normal;font-family:Menlo,'DejaVu Sans Mono',consolas,'Courier New',monospace\"><span style=\"font-weight: bold\">Model: \"cpg_model\"</span>\n",
       "</pre>\n"
      ],
      "text/plain": [
       "\u001b[1mModel: \"cpg_model\"\u001b[0m\n"
      ]
     },
     "metadata": {},
     "output_type": "display_data"
    },
    {
     "data": {
      "text/html": [
       "<pre style=\"white-space:pre;overflow-x:auto;line-height:normal;font-family:Menlo,'DejaVu Sans Mono',consolas,'Courier New',monospace\">┏━━━━━━━━━━━━━━━━━━━━━━━━━━━━━━━━━┳━━━━━━━━━━━━━━━━━━━━━━━━┳━━━━━━━━━━━━━━━┓\n",
       "┃<span style=\"font-weight: bold\"> Layer (type)                    </span>┃<span style=\"font-weight: bold\"> Output Shape           </span>┃<span style=\"font-weight: bold\">       Param # </span>┃\n",
       "┡━━━━━━━━━━━━━━━━━━━━━━━━━━━━━━━━━╇━━━━━━━━━━━━━━━━━━━━━━━━╇━━━━━━━━━━━━━━━┩\n",
       "│ cpg_input (<span style=\"color: #0087ff; text-decoration-color: #0087ff\">InputLayer</span>)          │ (<span style=\"color: #00d7ff; text-decoration-color: #00d7ff\">None</span>, <span style=\"color: #00af00; text-decoration-color: #00af00\">7</span>)              │             <span style=\"color: #00af00; text-decoration-color: #00af00\">0</span> │\n",
       "├─────────────────────────────────┼────────────────────────┼───────────────┤\n",
       "│ cpg_gene (<span style=\"color: #0087ff; text-decoration-color: #0087ff\">Dense</span>)                │ (<span style=\"color: #00d7ff; text-decoration-color: #00d7ff\">None</span>, <span style=\"color: #00af00; text-decoration-color: #00af00\">32</span>)             │           <span style=\"color: #00af00; text-decoration-color: #00af00\">256</span> │\n",
       "├─────────────────────────────────┼────────────────────────┼───────────────┤\n",
       "│ cpg_gene_output (<span style=\"color: #0087ff; text-decoration-color: #0087ff\">Dense</span>)         │ (<span style=\"color: #00d7ff; text-decoration-color: #00d7ff\">None</span>, <span style=\"color: #00af00; text-decoration-color: #00af00\">1</span>)              │            <span style=\"color: #00af00; text-decoration-color: #00af00\">33</span> │\n",
       "└─────────────────────────────────┴────────────────────────┴───────────────┘\n",
       "</pre>\n"
      ],
      "text/plain": [
       "┏━━━━━━━━━━━━━━━━━━━━━━━━━━━━━━━━━┳━━━━━━━━━━━━━━━━━━━━━━━━┳━━━━━━━━━━━━━━━┓\n",
       "┃\u001b[1m \u001b[0m\u001b[1mLayer (type)                   \u001b[0m\u001b[1m \u001b[0m┃\u001b[1m \u001b[0m\u001b[1mOutput Shape          \u001b[0m\u001b[1m \u001b[0m┃\u001b[1m \u001b[0m\u001b[1m      Param #\u001b[0m\u001b[1m \u001b[0m┃\n",
       "┡━━━━━━━━━━━━━━━━━━━━━━━━━━━━━━━━━╇━━━━━━━━━━━━━━━━━━━━━━━━╇━━━━━━━━━━━━━━━┩\n",
       "│ cpg_input (\u001b[38;5;33mInputLayer\u001b[0m)          │ (\u001b[38;5;45mNone\u001b[0m, \u001b[38;5;34m7\u001b[0m)              │             \u001b[38;5;34m0\u001b[0m │\n",
       "├─────────────────────────────────┼────────────────────────┼───────────────┤\n",
       "│ cpg_gene (\u001b[38;5;33mDense\u001b[0m)                │ (\u001b[38;5;45mNone\u001b[0m, \u001b[38;5;34m32\u001b[0m)             │           \u001b[38;5;34m256\u001b[0m │\n",
       "├─────────────────────────────────┼────────────────────────┼───────────────┤\n",
       "│ cpg_gene_output (\u001b[38;5;33mDense\u001b[0m)         │ (\u001b[38;5;45mNone\u001b[0m, \u001b[38;5;34m1\u001b[0m)              │            \u001b[38;5;34m33\u001b[0m │\n",
       "└─────────────────────────────────┴────────────────────────┴───────────────┘\n"
      ]
     },
     "metadata": {},
     "output_type": "display_data"
    },
    {
     "data": {
      "text/html": [
       "<pre style=\"white-space:pre;overflow-x:auto;line-height:normal;font-family:Menlo,'DejaVu Sans Mono',consolas,'Courier New',monospace\"><span style=\"font-weight: bold\"> Total params: </span><span style=\"color: #00af00; text-decoration-color: #00af00\">289</span> (1.13 KB)\n",
       "</pre>\n"
      ],
      "text/plain": [
       "\u001b[1m Total params: \u001b[0m\u001b[38;5;34m289\u001b[0m (1.13 KB)\n"
      ]
     },
     "metadata": {},
     "output_type": "display_data"
    },
    {
     "data": {
      "text/html": [
       "<pre style=\"white-space:pre;overflow-x:auto;line-height:normal;font-family:Menlo,'DejaVu Sans Mono',consolas,'Courier New',monospace\"><span style=\"font-weight: bold\"> Trainable params: </span><span style=\"color: #00af00; text-decoration-color: #00af00\">289</span> (1.13 KB)\n",
       "</pre>\n"
      ],
      "text/plain": [
       "\u001b[1m Trainable params: \u001b[0m\u001b[38;5;34m289\u001b[0m (1.13 KB)\n"
      ]
     },
     "metadata": {},
     "output_type": "display_data"
    },
    {
     "data": {
      "text/html": [
       "<pre style=\"white-space:pre;overflow-x:auto;line-height:normal;font-family:Menlo,'DejaVu Sans Mono',consolas,'Courier New',monospace\"><span style=\"font-weight: bold\"> Non-trainable params: </span><span style=\"color: #00af00; text-decoration-color: #00af00\">0</span> (0.00 B)\n",
       "</pre>\n"
      ],
      "text/plain": [
       "\u001b[1m Non-trainable params: \u001b[0m\u001b[38;5;34m0\u001b[0m (0.00 B)\n"
      ]
     },
     "metadata": {},
     "output_type": "display_data"
    },
    {
     "name": "stdout",
     "output_type": "stream",
     "text": [
      "None\n"
     ]
    },
    {
     "data": {
      "text/html": [
       "<pre style=\"white-space:pre;overflow-x:auto;line-height:normal;font-family:Menlo,'DejaVu Sans Mono',consolas,'Courier New',monospace\"><span style=\"font-weight: bold\">Model: \"functional_19\"</span>\n",
       "</pre>\n"
      ],
      "text/plain": [
       "\u001b[1mModel: \"functional_19\"\u001b[0m\n"
      ]
     },
     "metadata": {},
     "output_type": "display_data"
    },
    {
     "data": {
      "text/html": [
       "<pre style=\"white-space:pre;overflow-x:auto;line-height:normal;font-family:Menlo,'DejaVu Sans Mono',consolas,'Courier New',monospace\">┏━━━━━━━━━━━━━━━━━━━━━┳━━━━━━━━━━━━━━━━━━━┳━━━━━━━━━━━━┳━━━━━━━━━━━━━━━━━━━┓\n",
       "┃<span style=\"font-weight: bold\"> Layer (type)        </span>┃<span style=\"font-weight: bold\"> Output Shape      </span>┃<span style=\"font-weight: bold\">    Param # </span>┃<span style=\"font-weight: bold\"> Connected to      </span>┃\n",
       "┡━━━━━━━━━━━━━━━━━━━━━╇━━━━━━━━━━━━━━━━━━━╇━━━━━━━━━━━━╇━━━━━━━━━━━━━━━━━━━┩\n",
       "│ snp_input           │ (<span style=\"color: #00d7ff; text-decoration-color: #00d7ff\">None</span>, <span style=\"color: #00af00; text-decoration-color: #00af00\">6</span>)         │          <span style=\"color: #00af00; text-decoration-color: #00af00\">0</span> │ -                 │\n",
       "│ (<span style=\"color: #0087ff; text-decoration-color: #0087ff\">InputLayer</span>)        │                   │            │                   │\n",
       "├─────────────────────┼───────────────────┼────────────┼───────────────────┤\n",
       "│ cpg_input           │ (<span style=\"color: #00d7ff; text-decoration-color: #00d7ff\">None</span>, <span style=\"color: #00af00; text-decoration-color: #00af00\">7</span>)         │          <span style=\"color: #00af00; text-decoration-color: #00af00\">0</span> │ -                 │\n",
       "│ (<span style=\"color: #0087ff; text-decoration-color: #0087ff\">InputLayer</span>)        │                   │            │                   │\n",
       "├─────────────────────┼───────────────────┼────────────┼───────────────────┤\n",
       "│ snp_gene (<span style=\"color: #0087ff; text-decoration-color: #0087ff\">Dense</span>)    │ (<span style=\"color: #00d7ff; text-decoration-color: #00d7ff\">None</span>, <span style=\"color: #00af00; text-decoration-color: #00af00\">32</span>)        │        <span style=\"color: #00af00; text-decoration-color: #00af00\">224</span> │ snp_input[<span style=\"color: #00af00; text-decoration-color: #00af00\">0</span>][<span style=\"color: #00af00; text-decoration-color: #00af00\">0</span>]   │\n",
       "├─────────────────────┼───────────────────┼────────────┼───────────────────┤\n",
       "│ cpg_gene (<span style=\"color: #0087ff; text-decoration-color: #0087ff\">Dense</span>)    │ (<span style=\"color: #00d7ff; text-decoration-color: #00d7ff\">None</span>, <span style=\"color: #00af00; text-decoration-color: #00af00\">32</span>)        │        <span style=\"color: #00af00; text-decoration-color: #00af00\">256</span> │ cpg_input[<span style=\"color: #00af00; text-decoration-color: #00af00\">0</span>][<span style=\"color: #00af00; text-decoration-color: #00af00\">0</span>]   │\n",
       "├─────────────────────┼───────────────────┼────────────┼───────────────────┤\n",
       "│ snp_gene_output     │ (<span style=\"color: #00d7ff; text-decoration-color: #00d7ff\">None</span>, <span style=\"color: #00af00; text-decoration-color: #00af00\">1</span>)         │         <span style=\"color: #00af00; text-decoration-color: #00af00\">33</span> │ snp_gene[<span style=\"color: #00af00; text-decoration-color: #00af00\">0</span>][<span style=\"color: #00af00; text-decoration-color: #00af00\">0</span>]    │\n",
       "│ (<span style=\"color: #0087ff; text-decoration-color: #0087ff\">Dense</span>)             │                   │            │                   │\n",
       "├─────────────────────┼───────────────────┼────────────┼───────────────────┤\n",
       "│ cpg_gene_output     │ (<span style=\"color: #00d7ff; text-decoration-color: #00d7ff\">None</span>, <span style=\"color: #00af00; text-decoration-color: #00af00\">1</span>)         │         <span style=\"color: #00af00; text-decoration-color: #00af00\">33</span> │ cpg_gene[<span style=\"color: #00af00; text-decoration-color: #00af00\">0</span>][<span style=\"color: #00af00; text-decoration-color: #00af00\">0</span>]    │\n",
       "│ (<span style=\"color: #0087ff; text-decoration-color: #0087ff\">Dense</span>)             │                   │            │                   │\n",
       "├─────────────────────┼───────────────────┼────────────┼───────────────────┤\n",
       "│ pathway_input       │ (<span style=\"color: #00d7ff; text-decoration-color: #00d7ff\">None</span>, <span style=\"color: #00af00; text-decoration-color: #00af00\">2</span>)         │          <span style=\"color: #00af00; text-decoration-color: #00af00\">0</span> │ snp_gene_output[<span style=\"color: #00af00; text-decoration-color: #00af00\">…</span> │\n",
       "│ (<span style=\"color: #0087ff; text-decoration-color: #0087ff\">Concatenate</span>)       │                   │            │ cpg_gene_output[<span style=\"color: #00af00; text-decoration-color: #00af00\">…</span> │\n",
       "├─────────────────────┼───────────────────┼────────────┼───────────────────┤\n",
       "│ cov_input           │ (<span style=\"color: #00d7ff; text-decoration-color: #00d7ff\">None</span>, <span style=\"color: #00af00; text-decoration-color: #00af00\">12</span>)        │          <span style=\"color: #00af00; text-decoration-color: #00af00\">0</span> │ -                 │\n",
       "│ (<span style=\"color: #0087ff; text-decoration-color: #0087ff\">InputLayer</span>)        │                   │            │                   │\n",
       "├─────────────────────┼───────────────────┼────────────┼───────────────────┤\n",
       "│ pathway_level_1     │ (<span style=\"color: #00d7ff; text-decoration-color: #00d7ff\">None</span>, <span style=\"color: #00af00; text-decoration-color: #00af00\">8</span>)         │         <span style=\"color: #00af00; text-decoration-color: #00af00\">24</span> │ pathway_input[<span style=\"color: #00af00; text-decoration-color: #00af00\">0</span>]… │\n",
       "│ (<span style=\"color: #0087ff; text-decoration-color: #0087ff\">Dense</span>)             │                   │            │                   │\n",
       "├─────────────────────┼───────────────────┼────────────┼───────────────────┤\n",
       "│ cov_output (<span style=\"color: #0087ff; text-decoration-color: #0087ff\">Dense</span>)  │ (<span style=\"color: #00d7ff; text-decoration-color: #00d7ff\">None</span>, <span style=\"color: #00af00; text-decoration-color: #00af00\">1</span>)         │         <span style=\"color: #00af00; text-decoration-color: #00af00\">13</span> │ cov_input[<span style=\"color: #00af00; text-decoration-color: #00af00\">0</span>][<span style=\"color: #00af00; text-decoration-color: #00af00\">0</span>]   │\n",
       "├─────────────────────┼───────────────────┼────────────┼───────────────────┤\n",
       "│ pathway_level_2     │ (<span style=\"color: #00d7ff; text-decoration-color: #00d7ff\">None</span>, <span style=\"color: #00af00; text-decoration-color: #00af00\">4</span>)         │         <span style=\"color: #00af00; text-decoration-color: #00af00\">36</span> │ pathway_level_1[<span style=\"color: #00af00; text-decoration-color: #00af00\">…</span> │\n",
       "│ (<span style=\"color: #0087ff; text-decoration-color: #0087ff\">Dense</span>)             │                   │            │                   │\n",
       "├─────────────────────┼───────────────────┼────────────┼───────────────────┤\n",
       "│ pathway_output      │ (<span style=\"color: #00d7ff; text-decoration-color: #00d7ff\">None</span>, <span style=\"color: #00af00; text-decoration-color: #00af00\">5</span>)         │          <span style=\"color: #00af00; text-decoration-color: #00af00\">0</span> │ cov_output[<span style=\"color: #00af00; text-decoration-color: #00af00\">0</span>][<span style=\"color: #00af00; text-decoration-color: #00af00\">0</span>], │\n",
       "│ (<span style=\"color: #0087ff; text-decoration-color: #0087ff\">Concatenate</span>)       │                   │            │ pathway_level_2[<span style=\"color: #00af00; text-decoration-color: #00af00\">…</span> │\n",
       "├─────────────────────┼───────────────────┼────────────┼───────────────────┤\n",
       "│ dense_55 (<span style=\"color: #0087ff; text-decoration-color: #0087ff\">Dense</span>)    │ (<span style=\"color: #00d7ff; text-decoration-color: #00d7ff\">None</span>, <span style=\"color: #00af00; text-decoration-color: #00af00\">1</span>)         │          <span style=\"color: #00af00; text-decoration-color: #00af00\">6</span> │ pathway_output[<span style=\"color: #00af00; text-decoration-color: #00af00\">0</span>… │\n",
       "└─────────────────────┴───────────────────┴────────────┴───────────────────┘\n",
       "</pre>\n"
      ],
      "text/plain": [
       "┏━━━━━━━━━━━━━━━━━━━━━┳━━━━━━━━━━━━━━━━━━━┳━━━━━━━━━━━━┳━━━━━━━━━━━━━━━━━━━┓\n",
       "┃\u001b[1m \u001b[0m\u001b[1mLayer (type)       \u001b[0m\u001b[1m \u001b[0m┃\u001b[1m \u001b[0m\u001b[1mOutput Shape     \u001b[0m\u001b[1m \u001b[0m┃\u001b[1m \u001b[0m\u001b[1m   Param #\u001b[0m\u001b[1m \u001b[0m┃\u001b[1m \u001b[0m\u001b[1mConnected to     \u001b[0m\u001b[1m \u001b[0m┃\n",
       "┡━━━━━━━━━━━━━━━━━━━━━╇━━━━━━━━━━━━━━━━━━━╇━━━━━━━━━━━━╇━━━━━━━━━━━━━━━━━━━┩\n",
       "│ snp_input           │ (\u001b[38;5;45mNone\u001b[0m, \u001b[38;5;34m6\u001b[0m)         │          \u001b[38;5;34m0\u001b[0m │ -                 │\n",
       "│ (\u001b[38;5;33mInputLayer\u001b[0m)        │                   │            │                   │\n",
       "├─────────────────────┼───────────────────┼────────────┼───────────────────┤\n",
       "│ cpg_input           │ (\u001b[38;5;45mNone\u001b[0m, \u001b[38;5;34m7\u001b[0m)         │          \u001b[38;5;34m0\u001b[0m │ -                 │\n",
       "│ (\u001b[38;5;33mInputLayer\u001b[0m)        │                   │            │                   │\n",
       "├─────────────────────┼───────────────────┼────────────┼───────────────────┤\n",
       "│ snp_gene (\u001b[38;5;33mDense\u001b[0m)    │ (\u001b[38;5;45mNone\u001b[0m, \u001b[38;5;34m32\u001b[0m)        │        \u001b[38;5;34m224\u001b[0m │ snp_input[\u001b[38;5;34m0\u001b[0m][\u001b[38;5;34m0\u001b[0m]   │\n",
       "├─────────────────────┼───────────────────┼────────────┼───────────────────┤\n",
       "│ cpg_gene (\u001b[38;5;33mDense\u001b[0m)    │ (\u001b[38;5;45mNone\u001b[0m, \u001b[38;5;34m32\u001b[0m)        │        \u001b[38;5;34m256\u001b[0m │ cpg_input[\u001b[38;5;34m0\u001b[0m][\u001b[38;5;34m0\u001b[0m]   │\n",
       "├─────────────────────┼───────────────────┼────────────┼───────────────────┤\n",
       "│ snp_gene_output     │ (\u001b[38;5;45mNone\u001b[0m, \u001b[38;5;34m1\u001b[0m)         │         \u001b[38;5;34m33\u001b[0m │ snp_gene[\u001b[38;5;34m0\u001b[0m][\u001b[38;5;34m0\u001b[0m]    │\n",
       "│ (\u001b[38;5;33mDense\u001b[0m)             │                   │            │                   │\n",
       "├─────────────────────┼───────────────────┼────────────┼───────────────────┤\n",
       "│ cpg_gene_output     │ (\u001b[38;5;45mNone\u001b[0m, \u001b[38;5;34m1\u001b[0m)         │         \u001b[38;5;34m33\u001b[0m │ cpg_gene[\u001b[38;5;34m0\u001b[0m][\u001b[38;5;34m0\u001b[0m]    │\n",
       "│ (\u001b[38;5;33mDense\u001b[0m)             │                   │            │                   │\n",
       "├─────────────────────┼───────────────────┼────────────┼───────────────────┤\n",
       "│ pathway_input       │ (\u001b[38;5;45mNone\u001b[0m, \u001b[38;5;34m2\u001b[0m)         │          \u001b[38;5;34m0\u001b[0m │ snp_gene_output[\u001b[38;5;34m…\u001b[0m │\n",
       "│ (\u001b[38;5;33mConcatenate\u001b[0m)       │                   │            │ cpg_gene_output[\u001b[38;5;34m…\u001b[0m │\n",
       "├─────────────────────┼───────────────────┼────────────┼───────────────────┤\n",
       "│ cov_input           │ (\u001b[38;5;45mNone\u001b[0m, \u001b[38;5;34m12\u001b[0m)        │          \u001b[38;5;34m0\u001b[0m │ -                 │\n",
       "│ (\u001b[38;5;33mInputLayer\u001b[0m)        │                   │            │                   │\n",
       "├─────────────────────┼───────────────────┼────────────┼───────────────────┤\n",
       "│ pathway_level_1     │ (\u001b[38;5;45mNone\u001b[0m, \u001b[38;5;34m8\u001b[0m)         │         \u001b[38;5;34m24\u001b[0m │ pathway_input[\u001b[38;5;34m0\u001b[0m]… │\n",
       "│ (\u001b[38;5;33mDense\u001b[0m)             │                   │            │                   │\n",
       "├─────────────────────┼───────────────────┼────────────┼───────────────────┤\n",
       "│ cov_output (\u001b[38;5;33mDense\u001b[0m)  │ (\u001b[38;5;45mNone\u001b[0m, \u001b[38;5;34m1\u001b[0m)         │         \u001b[38;5;34m13\u001b[0m │ cov_input[\u001b[38;5;34m0\u001b[0m][\u001b[38;5;34m0\u001b[0m]   │\n",
       "├─────────────────────┼───────────────────┼────────────┼───────────────────┤\n",
       "│ pathway_level_2     │ (\u001b[38;5;45mNone\u001b[0m, \u001b[38;5;34m4\u001b[0m)         │         \u001b[38;5;34m36\u001b[0m │ pathway_level_1[\u001b[38;5;34m…\u001b[0m │\n",
       "│ (\u001b[38;5;33mDense\u001b[0m)             │                   │            │                   │\n",
       "├─────────────────────┼───────────────────┼────────────┼───────────────────┤\n",
       "│ pathway_output      │ (\u001b[38;5;45mNone\u001b[0m, \u001b[38;5;34m5\u001b[0m)         │          \u001b[38;5;34m0\u001b[0m │ cov_output[\u001b[38;5;34m0\u001b[0m][\u001b[38;5;34m0\u001b[0m], │\n",
       "│ (\u001b[38;5;33mConcatenate\u001b[0m)       │                   │            │ pathway_level_2[\u001b[38;5;34m…\u001b[0m │\n",
       "├─────────────────────┼───────────────────┼────────────┼───────────────────┤\n",
       "│ dense_55 (\u001b[38;5;33mDense\u001b[0m)    │ (\u001b[38;5;45mNone\u001b[0m, \u001b[38;5;34m1\u001b[0m)         │          \u001b[38;5;34m6\u001b[0m │ pathway_output[\u001b[38;5;34m0\u001b[0m… │\n",
       "└─────────────────────┴───────────────────┴────────────┴───────────────────┘\n"
      ]
     },
     "metadata": {},
     "output_type": "display_data"
    },
    {
     "data": {
      "text/html": [
       "<pre style=\"white-space:pre;overflow-x:auto;line-height:normal;font-family:Menlo,'DejaVu Sans Mono',consolas,'Courier New',monospace\"><span style=\"font-weight: bold\"> Total params: </span><span style=\"color: #00af00; text-decoration-color: #00af00\">625</span> (2.44 KB)\n",
       "</pre>\n"
      ],
      "text/plain": [
       "\u001b[1m Total params: \u001b[0m\u001b[38;5;34m625\u001b[0m (2.44 KB)\n"
      ]
     },
     "metadata": {},
     "output_type": "display_data"
    },
    {
     "data": {
      "text/html": [
       "<pre style=\"white-space:pre;overflow-x:auto;line-height:normal;font-family:Menlo,'DejaVu Sans Mono',consolas,'Courier New',monospace\"><span style=\"font-weight: bold\"> Trainable params: </span><span style=\"color: #00af00; text-decoration-color: #00af00\">625</span> (2.44 KB)\n",
       "</pre>\n"
      ],
      "text/plain": [
       "\u001b[1m Trainable params: \u001b[0m\u001b[38;5;34m625\u001b[0m (2.44 KB)\n"
      ]
     },
     "metadata": {},
     "output_type": "display_data"
    },
    {
     "data": {
      "text/html": [
       "<pre style=\"white-space:pre;overflow-x:auto;line-height:normal;font-family:Menlo,'DejaVu Sans Mono',consolas,'Courier New',monospace\"><span style=\"font-weight: bold\"> Non-trainable params: </span><span style=\"color: #00af00; text-decoration-color: #00af00\">0</span> (0.00 B)\n",
       "</pre>\n"
      ],
      "text/plain": [
       "\u001b[1m Non-trainable params: \u001b[0m\u001b[38;5;34m0\u001b[0m (0.00 B)\n"
      ]
     },
     "metadata": {},
     "output_type": "display_data"
    },
    {
     "name": "stdout",
     "output_type": "stream",
     "text": [
      "None\n",
      "[<KerasTensor shape=(None, 12), dtype=float32, sparse=False, name=cov_input>, <KerasTensor shape=(None, 7), dtype=float32, sparse=False, name=cpg_input>, <KerasTensor shape=(None, 6), dtype=float32, sparse=False, name=snp_input>]\n"
     ]
    }
   ],
   "source": [
    "def create_cov_model(dataset):\n",
    "    input_dim = dataset.element_spec[0]['cov_input'].shape[1]\n",
    "    print('inputsize',input_dim)    \n",
    "    inputs = layers.Input(shape=(input_dim,),name='cov_input')\n",
    "    x = layers.Dense(1,name='cov_output')(inputs)\n",
    "    return keras.models.Model(inputs,x,name='cov_model')\n",
    "cov_model =create_cov_model(train)\n",
    "print(cov_model.summary())\n",
    "\n",
    "def create_snp_model(dataset):\n",
    "    input_dim = dataset.element_spec[0]['snp_input'].shape[1]\n",
    "    print('inputsize',input_dim)    \n",
    "    inputs = layers.Input(shape=(input_dim,),name='snp_input')\n",
    "    x = layers.Dense(32,name='snp_gene')(inputs)\n",
    "    x = layers.Dense(1,name='snp_gene_output')(x)\n",
    "    return keras.models.Model(inputs,x,name='snp_model')\n",
    "snp_model = create_snp_model(train)\n",
    "print(snp_model.summary())\n",
    "\n",
    "def create_cpg_model(dataset):\n",
    "    input_dim = dataset.element_spec[0]['cpg_input'].shape[1]\n",
    "    print('inputsize',input_dim)    \n",
    "    inputs = layers.Input(shape=(input_dim,),name='cpg_input')\n",
    "    x = layers.Dense(32,name='cpg_gene')(inputs)\n",
    "    x = layers.Dense(1,name='cpg_gene_output')(x)\n",
    "    return keras.models.Model(inputs,x,name='cpg_model')\n",
    "cpg_model = create_cpg_model(train)\n",
    "print(cpg_model.summary())\n",
    "\n",
    "def create_pathway_model(cov_model,snp_model,cpg_model):\n",
    "    pathwayInput = layers.concatenate([snp_model.output,cpg_model.output],name='pathway_input')\n",
    "    x = layers.Dense(8,name='pathway_level_1')(pathwayInput)\n",
    "    x = layers.Dense(4,name='pathway_level_2')(x)\n",
    "    x = layers.concatenate([cov_model.output,x],name='pathway_output')\n",
    "    x = layers.Dense(1)(x)\n",
    "    #return keras.models.Model(inputs=[cov_model.input,snp_model.input,cpg_model.input],outputs=x)\n",
    "    return keras.models.Model(inputs={'cov_input':cov_model.input,'snp_input':snp_model.input,'cpg_input':cpg_model.input},outputs=x)\n",
    "pathway_model = create_pathway_model(cov_model,snp_model,cpg_model)\n",
    "print(pathway_model.summary())\n",
    "print(pathway_model.inputs)"
   ]
  },
  {
   "cell_type": "code",
   "execution_count": 397,
   "id": "ecb59c1e-dfd0-4bbd-a797-aad79519ac26",
   "metadata": {},
   "outputs": [
    {
     "name": "stdout",
     "output_type": "stream",
     "text": [
      "Epoch 1/5\n",
      "\u001b[1m3/3\u001b[0m \u001b[32m━━━━━━━━━━━━━━━━━━━━\u001b[0m\u001b[37m\u001b[0m \u001b[1m27s\u001b[0m 10s/step - accuracy: 0.8421 - loss: 2.5453 - val_accuracy: 0.1150 - val_loss: 14.2645\n",
      "Epoch 2/5\n",
      "\u001b[1m3/3\u001b[0m \u001b[32m━━━━━━━━━━━━━━━━━━━━\u001b[0m\u001b[37m\u001b[0m \u001b[1m4s\u001b[0m 1s/step - accuracy: 0.0000e+00 - loss: 0.0000e+00 - val_accuracy: 0.7650 - val_loss: 3.7878\n",
      "Epoch 3/5\n",
      "\u001b[1m3/3\u001b[0m \u001b[32m━━━━━━━━━━━━━━━━━━━━\u001b[0m\u001b[37m\u001b[0m \u001b[1m15s\u001b[0m 3s/step - accuracy: 0.8246 - loss: 2.8274 - val_accuracy: 0.3200 - val_loss: 10.9603\n",
      "Epoch 4/5\n",
      "\u001b[1m3/3\u001b[0m \u001b[32m━━━━━━━━━━━━━━━━━━━━\u001b[0m\u001b[37m\u001b[0m \u001b[1m4s\u001b[0m 1s/step - accuracy: 0.0000e+00 - loss: 0.0000e+00 - val_accuracy: 0.2100 - val_loss: 12.7333\n",
      "Epoch 5/5\n",
      "\u001b[1m3/3\u001b[0m \u001b[32m━━━━━━━━━━━━━━━━━━━━\u001b[0m\u001b[37m\u001b[0m \u001b[1m15s\u001b[0m 3s/step - accuracy: 0.8350 - loss: 2.6595 - val_accuracy: 0.7750 - val_loss: 3.6266\n"
     ]
    },
    {
     "data": {
      "text/plain": [
       "<keras.src.callbacks.history.History at 0x7084495f12e0>"
      ]
     },
     "execution_count": 397,
     "metadata": {},
     "output_type": "execute_result"
    }
   ],
   "source": [
    "#print(next(iter(cov_train)).numpy())\n",
    "pathway_model.compile(\"adam\", \"binary_crossentropy\", metrics=[\"accuracy\"])\n",
    "pathway_model.fit(train ,validation_data=val,steps_per_epoch=3,validation_steps=2,epochs=5)\n",
    "#model.fit(train,validation_data=val,steps_per_epoch=4,validation_steps=3,epochs=5)"
   ]
  },
  {
   "cell_type": "code",
   "execution_count": 142,
   "id": "6897669d-a7eb-4d3c-83e2-5945bedab1ca",
   "metadata": {},
   "outputs": [
    {
     "name": "stdout",
     "output_type": "stream",
     "text": [
      "{'rs138985554_T': <KerasTensor shape=(None, 1), dtype=int64, sparse=False, name=rs138985554_T>, 'rs4648601_C': <KerasTensor shape=(None, 1), dtype=int64, sparse=False, name=rs4648601_C>, 'cg00050873': <KerasTensor shape=(None, 1), dtype=float32, sparse=False, name=rs4648601_C>}\n"
     ]
    }
   ],
   "source": [
    "FEATURE_NAMES=snplist+cpglist\n",
    "categorylist=[]\n",
    "def encode_numerical_feature(feature, name, dataset):\n",
    "    # Create a Normalization layer for our feature\n",
    "    normalizer = tf.keras.layers.Normalization(name=name)\n",
    "    # Prepare a Dataset that only yields our feature\n",
    "    feature_ds = dataset.map(lambda x, y: x[name])\n",
    "    feature_ds = feature_ds.map(lambda x: tf.expand_dims(x, -1))\n",
    "    # Learn the statistics of the data\n",
    "    normalizer.adapt(feature_ds)\n",
    "    # Normalize the input feature\n",
    "    encoded_feature = normalizer(feature)\n",
    "    print('encoded_feature',encoded_feature)\n",
    "    return encoded_feature\n",
    "def create_model_inputs():\n",
    "    inputs = {}\n",
    "\n",
    "    # This a helper function for creating categorical features\n",
    "    def create_input_helper(feature_name):\n",
    "        num_categories = 3\n",
    "        inputs[feature_name] = layers.Input(\n",
    "            name=feature_name, shape=(num_categories,), dtype=\"int64\"\n",
    "        )\n",
    "        return inputs\n",
    "\n",
    "    for feature_name in FEATURE_NAMES:\n",
    "        if feature_name in categorylist:\n",
    "            # Categorical features\n",
    "            create_input_helper(feature_name)\n",
    "        else:\n",
    "            # Make them float32, they are Real numbers\n",
    "            feature_input = tf.keras.layers.Input(name=feature_name, shape=(1,))\n",
    "            # Process the Inputs here\n",
    "            print('feature_input',feature_input)\n",
    "            #inputs[feature_name] = encode_numerical_feature(\n",
    "             #    feature_input, feature_name, batched\n",
    "            #inputs[feature_name] = feature_input\n",
    "            \n",
    "    return inputs\n",
    "def create_model_inputs2():\n",
    "    inputs = {}\n",
    "    for snp in snplist:\n",
    "        inputs[snp] = tf.keras.layers.Input(name=snp, shape=(1,),dtype='int64')\n",
    "    for cpg in cpglist:\n",
    "        inputs[cpg] = tf.keras.layers.Input(name=snp, shape=(1,),dtype='float32')\n",
    "    return inputs\n",
    "inputlist = create_model_inputs2()\n",
    "print(inputlist)"
   ]
  },
  {
   "cell_type": "code",
   "execution_count": 226,
   "id": "e37ae391-8fcd-4190-b590-0d1cb1208df7",
   "metadata": {},
   "outputs": [
    {
     "data": {
      "text/html": [
       "<pre style=\"white-space:pre;overflow-x:auto;line-height:normal;font-family:Menlo,'DejaVu Sans Mono',consolas,'Courier New',monospace\"><span style=\"font-weight: bold\">Model: \"my_model_18\"</span>\n",
       "</pre>\n"
      ],
      "text/plain": [
       "\u001b[1mModel: \"my_model_18\"\u001b[0m\n"
      ]
     },
     "metadata": {},
     "output_type": "display_data"
    },
    {
     "data": {
      "text/html": [
       "<pre style=\"white-space:pre;overflow-x:auto;line-height:normal;font-family:Menlo,'DejaVu Sans Mono',consolas,'Courier New',monospace\">┏━━━━━━━━━━━━━━━━━━━━━━━━━━━━━━━━━┳━━━━━━━━━━━━━━━━━━━━━━━━┳━━━━━━━━━━━━━━━┓\n",
       "┃<span style=\"font-weight: bold\"> Layer (type)                    </span>┃<span style=\"font-weight: bold\"> Output Shape           </span>┃<span style=\"font-weight: bold\">       Param # </span>┃\n",
       "┡━━━━━━━━━━━━━━━━━━━━━━━━━━━━━━━━━╇━━━━━━━━━━━━━━━━━━━━━━━━╇━━━━━━━━━━━━━━━┩\n",
       "│ first (<span style=\"color: #0087ff; text-decoration-color: #0087ff\">Dense</span>)                   │ (<span style=\"color: #00d7ff; text-decoration-color: #00d7ff\">None</span>, <span style=\"color: #00af00; text-decoration-color: #00af00\">32</span>)             │           <span style=\"color: #00af00; text-decoration-color: #00af00\">128</span> │\n",
       "├─────────────────────────────────┼────────────────────────┼───────────────┤\n",
       "│ out (<span style=\"color: #0087ff; text-decoration-color: #0087ff\">Dense</span>)                     │ (<span style=\"color: #00d7ff; text-decoration-color: #00d7ff\">None</span>, <span style=\"color: #00af00; text-decoration-color: #00af00\">1</span>)              │            <span style=\"color: #00af00; text-decoration-color: #00af00\">33</span> │\n",
       "├─────────────────────────────────┼────────────────────────┼───────────────┤\n",
       "│ dropout (<span style=\"color: #0087ff; text-decoration-color: #0087ff\">Dropout</span>)               │ ?                      │             <span style=\"color: #00af00; text-decoration-color: #00af00\">0</span> │\n",
       "└─────────────────────────────────┴────────────────────────┴───────────────┘\n",
       "</pre>\n"
      ],
      "text/plain": [
       "┏━━━━━━━━━━━━━━━━━━━━━━━━━━━━━━━━━┳━━━━━━━━━━━━━━━━━━━━━━━━┳━━━━━━━━━━━━━━━┓\n",
       "┃\u001b[1m \u001b[0m\u001b[1mLayer (type)                   \u001b[0m\u001b[1m \u001b[0m┃\u001b[1m \u001b[0m\u001b[1mOutput Shape          \u001b[0m\u001b[1m \u001b[0m┃\u001b[1m \u001b[0m\u001b[1m      Param #\u001b[0m\u001b[1m \u001b[0m┃\n",
       "┡━━━━━━━━━━━━━━━━━━━━━━━━━━━━━━━━━╇━━━━━━━━━━━━━━━━━━━━━━━━╇━━━━━━━━━━━━━━━┩\n",
       "│ first (\u001b[38;5;33mDense\u001b[0m)                   │ (\u001b[38;5;45mNone\u001b[0m, \u001b[38;5;34m32\u001b[0m)             │           \u001b[38;5;34m128\u001b[0m │\n",
       "├─────────────────────────────────┼────────────────────────┼───────────────┤\n",
       "│ out (\u001b[38;5;33mDense\u001b[0m)                     │ (\u001b[38;5;45mNone\u001b[0m, \u001b[38;5;34m1\u001b[0m)              │            \u001b[38;5;34m33\u001b[0m │\n",
       "├─────────────────────────────────┼────────────────────────┼───────────────┤\n",
       "│ dropout (\u001b[38;5;33mDropout\u001b[0m)               │ ?                      │             \u001b[38;5;34m0\u001b[0m │\n",
       "└─────────────────────────────────┴────────────────────────┴───────────────┘\n"
      ]
     },
     "metadata": {},
     "output_type": "display_data"
    },
    {
     "data": {
      "text/html": [
       "<pre style=\"white-space:pre;overflow-x:auto;line-height:normal;font-family:Menlo,'DejaVu Sans Mono',consolas,'Courier New',monospace\"><span style=\"font-weight: bold\"> Total params: </span><span style=\"color: #00af00; text-decoration-color: #00af00\">161</span> (644.00 B)\n",
       "</pre>\n"
      ],
      "text/plain": [
       "\u001b[1m Total params: \u001b[0m\u001b[38;5;34m161\u001b[0m (644.00 B)\n"
      ]
     },
     "metadata": {},
     "output_type": "display_data"
    },
    {
     "data": {
      "text/html": [
       "<pre style=\"white-space:pre;overflow-x:auto;line-height:normal;font-family:Menlo,'DejaVu Sans Mono',consolas,'Courier New',monospace\"><span style=\"font-weight: bold\"> Trainable params: </span><span style=\"color: #00af00; text-decoration-color: #00af00\">161</span> (644.00 B)\n",
       "</pre>\n"
      ],
      "text/plain": [
       "\u001b[1m Trainable params: \u001b[0m\u001b[38;5;34m161\u001b[0m (644.00 B)\n"
      ]
     },
     "metadata": {},
     "output_type": "display_data"
    },
    {
     "data": {
      "text/html": [
       "<pre style=\"white-space:pre;overflow-x:auto;line-height:normal;font-family:Menlo,'DejaVu Sans Mono',consolas,'Courier New',monospace\"><span style=\"font-weight: bold\"> Non-trainable params: </span><span style=\"color: #00af00; text-decoration-color: #00af00\">0</span> (0.00 B)\n",
       "</pre>\n"
      ],
      "text/plain": [
       "\u001b[1m Non-trainable params: \u001b[0m\u001b[38;5;34m0\u001b[0m (0.00 B)\n"
      ]
     },
     "metadata": {},
     "output_type": "display_data"
    },
    {
     "name": "stdout",
     "output_type": "stream",
     "text": [
      "None\n",
      "shape (None, 1)\n",
      "allinputs {'rs138985554_T': <KerasTensor shape=(None, 1), dtype=int64, sparse=False, name=rs138985554_T>, 'rs4648601_C': <KerasTensor shape=(None, 1), dtype=int64, sparse=False, name=rs4648601_C>, 'cg00050873': <KerasTensor shape=(None, 1), dtype=float32, sparse=False, name=rs4648601_C>}\n"
     ]
    }
   ],
   "source": [
    "#inputs = tf.keras.Input(shape=(3,),name=snplist+cpglist)\n",
    "\n",
    "class MyModel(keras.Model):\n",
    "    def __init__(self):\n",
    "        super().__init__()\n",
    "        \n",
    "        self.dense1 = keras.layers.Dense(32, activation=\"relu\",name='first')\n",
    "        self.dense2 = keras.layers.Dense(1,name='out')\n",
    "        self.dropout = keras.layers.Dropout(0.5,name='dropout')\n",
    "\n",
    "    def call(self, inputs, training=False):\n",
    "        #all_features = layers.concatenate(list(inputs.values()))\n",
    "        x = self.dense1(inputs)\n",
    "        #x = self.dense1(all_features)\n",
    "        x = self.dropout(x, training=training)\n",
    "        return self.dense2(x)\n",
    "\n",
    "class Classifier(keras.layers.Layer):\n",
    "    def __init__(self, **kwargs):\n",
    "        super().__init__(**kwargs)\n",
    "        self.dense_1 = layers.Dense(32, activation=\"relu\")\n",
    "        self.dropout = layers.Dropout(0.5)\n",
    "        self.dense_2 = layers.Dense(1)\n",
    "\n",
    "    def call(self, inputs):\n",
    "        #all_features = layers.concatenate(list(inputs.values()))\n",
    "        x = self.dense_1(inputs)\n",
    "        #x = self.dense_1(all_features)\n",
    "        x = self.dropout(x)\n",
    "        output = self.dense_2(x)\n",
    "        return output\n",
    "\n",
    "    # Surpress build warnings\n",
    "    def build(self, input_shape):\n",
    "        self.built = True\n",
    "\n",
    "def create_model():\n",
    "    all_inputs = create_model_inputs2()\n",
    "    print(inputlist)\n",
    "    output = Classifier()(all_inputs)\n",
    "    model = keras.Model(all_inputs,output)\n",
    "    #model = MyModel()\n",
    "    return model\n",
    "\n",
    "input_dim = merged_ds.element_spec[0].shape[1]\n",
    "\n",
    "# version 1\n",
    "#model = create_model()\n",
    "#all_inputs = \n",
    "\n",
    "#version 2\n",
    "#model = MyModel()\n",
    "\n",
    "x = keras.layers.Input(shape=(input_dim,))\n",
    "output = model(x)\n",
    "\n",
    "model.compile(\"adam\", \"binary_crossentropy\", metrics=[\"accuracy\"])\n",
    "print(model.summary())\n",
    "print('shape',output.shape)\n",
    "print('allinputs',all_inputs)\n",
    "#print(output.summary())\n"
   ]
  },
  {
   "cell_type": "code",
   "execution_count": null,
   "id": "51f3950d-1452-4b15-bec8-3217fbb7cc2d",
   "metadata": {},
   "outputs": [],
   "source": [
    "#train,val = tf.keras.utils.split_dataset(merged_ds,left_size=0.7)\n",
    "train,val = tf.keras.utils.split_dataset(batched2,left_size=0.7)"
   ]
  },
  {
   "cell_type": "code",
   "execution_count": 265,
   "id": "044143a6-b516-4ce1-a5c4-3801e1120eab",
   "metadata": {},
   "outputs": [
    {
     "name": "stdout",
     "output_type": "stream",
     "text": [
      "Epoch 1/5\n",
      "\u001b[1m4/4\u001b[0m \u001b[32m━━━━━━━━━━━━━━━━━━━━\u001b[0m\u001b[37m\u001b[0m \u001b[1m31s\u001b[0m 9s/step - accuracy: 0.4893 - loss: 3.9107 - val_accuracy: 0.4667 - val_loss: 0.7243\n",
      "Epoch 2/5\n",
      "\u001b[1m4/4\u001b[0m \u001b[32m━━━━━━━━━━━━━━━━━━━━\u001b[0m\u001b[37m\u001b[0m \u001b[1m7s\u001b[0m 2s/step - accuracy: 0.0000e+00 - loss: 0.0000e+00 - val_accuracy: 0.5633 - val_loss: 0.7103\n",
      "Epoch 3/5\n",
      "\u001b[1m4/4\u001b[0m \u001b[32m━━━━━━━━━━━━━━━━━━━━\u001b[0m\u001b[37m\u001b[0m \u001b[1m17s\u001b[0m 3s/step - accuracy: 0.5467 - loss: 2.6293 - val_accuracy: 0.4867 - val_loss: 0.7005\n",
      "Epoch 4/5\n",
      "\u001b[1m4/4\u001b[0m \u001b[32m━━━━━━━━━━━━━━━━━━━━\u001b[0m\u001b[37m\u001b[0m \u001b[1m9s\u001b[0m 2s/step - accuracy: 0.0000e+00 - loss: 0.0000e+00 - val_accuracy: 0.5367 - val_loss: 0.7446\n",
      "Epoch 5/5\n",
      "\u001b[1m4/4\u001b[0m \u001b[32m━━━━━━━━━━━━━━━━━━━━\u001b[0m\u001b[37m\u001b[0m \u001b[1m22s\u001b[0m 4s/step - accuracy: 0.5000 - loss: 2.8988 - val_accuracy: 0.5067 - val_loss: 0.6945\n"
     ]
    },
    {
     "data": {
      "text/plain": [
       "<keras.src.callbacks.history.History at 0x708458a35c40>"
      ]
     },
     "execution_count": 265,
     "metadata": {},
     "output_type": "execute_result"
    }
   ],
   "source": [
    "#train\n",
    "#for i in train:\n",
    "#model.fit(i, epochs=50, validation_data=val)\n",
    "#model.fit(batched, epochs=50)\n",
    "#print(merged_ds.dims[1])\n",
    "\n",
    "#unbatched = merged_ds.unbatch()\n",
    "#rebatched = unbatched.batch(20)\n",
    "#print(unbatched)\n",
    "#print(unbatched.batch(20))\n",
    "#expanded_input = tf.expand_dims(merged_ds.batch(20), axis=-1)\n",
    "#print(expanded_input)\n",
    "#model.fit(merged_ds)\n",
    "model.fit(train,validation_data=val,steps_per_epoch=4,validation_steps=3,epochs=5)\n",
    "#print('train',train,'val',val)\n",
    "\n"
   ]
  },
  {
   "cell_type": "code",
   "execution_count": 260,
   "id": "48120b79-cdfa-414a-a27a-b66e4e82e08d",
   "metadata": {},
   "outputs": [
    {
     "data": {
      "text/html": [
       "<pre style=\"white-space:pre;overflow-x:auto;line-height:normal;font-family:Menlo,'DejaVu Sans Mono',consolas,'Courier New',monospace\"><span style=\"font-weight: bold\">Model: \"my_model_18\"</span>\n",
       "</pre>\n"
      ],
      "text/plain": [
       "\u001b[1mModel: \"my_model_18\"\u001b[0m\n"
      ]
     },
     "metadata": {},
     "output_type": "display_data"
    },
    {
     "data": {
      "text/html": [
       "<pre style=\"white-space:pre;overflow-x:auto;line-height:normal;font-family:Menlo,'DejaVu Sans Mono',consolas,'Courier New',monospace\">┏━━━━━━━━━━━━━━━━━━━━━━━━━━━━━━━━━┳━━━━━━━━━━━━━━━━━━━━━━━━┳━━━━━━━━━━━━━━━┓\n",
       "┃<span style=\"font-weight: bold\"> Layer (type)                    </span>┃<span style=\"font-weight: bold\"> Output Shape           </span>┃<span style=\"font-weight: bold\">       Param # </span>┃\n",
       "┡━━━━━━━━━━━━━━━━━━━━━━━━━━━━━━━━━╇━━━━━━━━━━━━━━━━━━━━━━━━╇━━━━━━━━━━━━━━━┩\n",
       "│ first (<span style=\"color: #0087ff; text-decoration-color: #0087ff\">Dense</span>)                   │ (<span style=\"color: #00d7ff; text-decoration-color: #00d7ff\">None</span>, <span style=\"color: #00af00; text-decoration-color: #00af00\">32</span>)             │           <span style=\"color: #00af00; text-decoration-color: #00af00\">128</span> │\n",
       "├─────────────────────────────────┼────────────────────────┼───────────────┤\n",
       "│ out (<span style=\"color: #0087ff; text-decoration-color: #0087ff\">Dense</span>)                     │ (<span style=\"color: #00d7ff; text-decoration-color: #00d7ff\">None</span>, <span style=\"color: #00af00; text-decoration-color: #00af00\">1</span>)              │            <span style=\"color: #00af00; text-decoration-color: #00af00\">33</span> │\n",
       "├─────────────────────────────────┼────────────────────────┼───────────────┤\n",
       "│ dropout (<span style=\"color: #0087ff; text-decoration-color: #0087ff\">Dropout</span>)               │ ?                      │             <span style=\"color: #00af00; text-decoration-color: #00af00\">0</span> │\n",
       "└─────────────────────────────────┴────────────────────────┴───────────────┘\n",
       "</pre>\n"
      ],
      "text/plain": [
       "┏━━━━━━━━━━━━━━━━━━━━━━━━━━━━━━━━━┳━━━━━━━━━━━━━━━━━━━━━━━━┳━━━━━━━━━━━━━━━┓\n",
       "┃\u001b[1m \u001b[0m\u001b[1mLayer (type)                   \u001b[0m\u001b[1m \u001b[0m┃\u001b[1m \u001b[0m\u001b[1mOutput Shape          \u001b[0m\u001b[1m \u001b[0m┃\u001b[1m \u001b[0m\u001b[1m      Param #\u001b[0m\u001b[1m \u001b[0m┃\n",
       "┡━━━━━━━━━━━━━━━━━━━━━━━━━━━━━━━━━╇━━━━━━━━━━━━━━━━━━━━━━━━╇━━━━━━━━━━━━━━━┩\n",
       "│ first (\u001b[38;5;33mDense\u001b[0m)                   │ (\u001b[38;5;45mNone\u001b[0m, \u001b[38;5;34m32\u001b[0m)             │           \u001b[38;5;34m128\u001b[0m │\n",
       "├─────────────────────────────────┼────────────────────────┼───────────────┤\n",
       "│ out (\u001b[38;5;33mDense\u001b[0m)                     │ (\u001b[38;5;45mNone\u001b[0m, \u001b[38;5;34m1\u001b[0m)              │            \u001b[38;5;34m33\u001b[0m │\n",
       "├─────────────────────────────────┼────────────────────────┼───────────────┤\n",
       "│ dropout (\u001b[38;5;33mDropout\u001b[0m)               │ ?                      │             \u001b[38;5;34m0\u001b[0m │\n",
       "└─────────────────────────────────┴────────────────────────┴───────────────┘\n"
      ]
     },
     "metadata": {},
     "output_type": "display_data"
    },
    {
     "data": {
      "text/html": [
       "<pre style=\"white-space:pre;overflow-x:auto;line-height:normal;font-family:Menlo,'DejaVu Sans Mono',consolas,'Courier New',monospace\"><span style=\"font-weight: bold\"> Total params: </span><span style=\"color: #00af00; text-decoration-color: #00af00\">485</span> (1.90 KB)\n",
       "</pre>\n"
      ],
      "text/plain": [
       "\u001b[1m Total params: \u001b[0m\u001b[38;5;34m485\u001b[0m (1.90 KB)\n"
      ]
     },
     "metadata": {},
     "output_type": "display_data"
    },
    {
     "data": {
      "text/html": [
       "<pre style=\"white-space:pre;overflow-x:auto;line-height:normal;font-family:Menlo,'DejaVu Sans Mono',consolas,'Courier New',monospace\"><span style=\"font-weight: bold\"> Trainable params: </span><span style=\"color: #00af00; text-decoration-color: #00af00\">161</span> (644.00 B)\n",
       "</pre>\n"
      ],
      "text/plain": [
       "\u001b[1m Trainable params: \u001b[0m\u001b[38;5;34m161\u001b[0m (644.00 B)\n"
      ]
     },
     "metadata": {},
     "output_type": "display_data"
    },
    {
     "data": {
      "text/html": [
       "<pre style=\"white-space:pre;overflow-x:auto;line-height:normal;font-family:Menlo,'DejaVu Sans Mono',consolas,'Courier New',monospace\"><span style=\"font-weight: bold\"> Non-trainable params: </span><span style=\"color: #00af00; text-decoration-color: #00af00\">0</span> (0.00 B)\n",
       "</pre>\n"
      ],
      "text/plain": [
       "\u001b[1m Non-trainable params: \u001b[0m\u001b[38;5;34m0\u001b[0m (0.00 B)\n"
      ]
     },
     "metadata": {},
     "output_type": "display_data"
    },
    {
     "data": {
      "text/html": [
       "<pre style=\"white-space:pre;overflow-x:auto;line-height:normal;font-family:Menlo,'DejaVu Sans Mono',consolas,'Courier New',monospace\"><span style=\"font-weight: bold\"> Optimizer params: </span><span style=\"color: #00af00; text-decoration-color: #00af00\">324</span> (1.27 KB)\n",
       "</pre>\n"
      ],
      "text/plain": [
       "\u001b[1m Optimizer params: \u001b[0m\u001b[38;5;34m324\u001b[0m (1.27 KB)\n"
      ]
     },
     "metadata": {},
     "output_type": "display_data"
    }
   ],
   "source": [
    "model.summary()"
   ]
  },
  {
   "cell_type": "code",
   "execution_count": null,
   "id": "371dbc9f-e71d-4497-97d3-58c2a483a698",
   "metadata": {},
   "outputs": [],
   "source": []
  }
 ],
 "metadata": {
  "kernelspec": {
   "display_name": "Python 3 (ipykernel)",
   "language": "python",
   "name": "python3"
  },
  "language_info": {
   "codemirror_mode": {
    "name": "ipython",
    "version": 3
   },
   "file_extension": ".py",
   "mimetype": "text/x-python",
   "name": "python",
   "nbconvert_exporter": "python",
   "pygments_lexer": "ipython3",
   "version": "3.12.2"
  }
 },
 "nbformat": 4,
 "nbformat_minor": 5
}
